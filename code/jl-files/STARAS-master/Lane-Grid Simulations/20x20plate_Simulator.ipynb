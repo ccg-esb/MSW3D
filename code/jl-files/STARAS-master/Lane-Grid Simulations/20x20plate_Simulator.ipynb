{
 "cells": [
  {
   "cell_type": "code",
   "execution_count": 1,
   "metadata": {
    "collapsed": false
   },
   "outputs": [
    {
     "name": "stderr",
     "output_type": "stream",
     "text": [
      "WARNING: Method definition describe(AbstractArray) in module StatsBase at /home/rpm/.julia/v0.5/StatsBase/src/scalarstats.jl:560 overwritten in module DataFrames at /home/rpm/.julia/v0.5/DataFrames/src/abstractdataframe/abstractdataframe.jl:407.\n",
      "INFO: Recompiling stale cache file /home/rpm/.julia/lib/v0.5/FFTViews.ji for module FFTViews.\n",
      "INFO: Recompiling stale cache file /home/rpm/.julia/lib/v0.5/ColorSchemes.ji for module ColorSchemes.\n",
      "WARNING: Method definition mapc(Any, Number) in module ColorTypes at /home/rpm/.julia/v0.5/ColorTypes/src/operations.jl:101 overwritten in module ImageCore at /home/rpm/.julia/v0.5/ImageCore/src/map.jl:87.\n",
      "WARNING: Method definition mapc(Any, Number) in module ColorTypes at /home/rpm/.julia/v0.5/ColorTypes/src/operations.jl:101 overwritten in module ImageCore at /home/rpm/.julia/v0.5/ImageCore/src/map.jl:87.\n",
      "WARNING: Method definition mapc(Any, Number) in module ColorTypes at /home/rpm/.julia/v0.5/ColorTypes/src/operations.jl:101 overwritten in module ImageCore at /home/rpm/.julia/v0.5/ImageCore/src/map.jl:87.\n",
      "WARNING: Method definition mapc(Any, Number) in module ColorTypes at /home/rpm/.julia/v0.5/ColorTypes/src/operations.jl:101 overwritten in module ImageCore at /home/rpm/.julia/v0.5/ImageCore/src/map.jl:87.\n",
      "WARNING: Method definition mapc(Any, Number) in module ColorTypes at /home/rpm/.julia/v0.5/ColorTypes/src/operations.jl:101 overwritten in module ImageCore at /home/rpm/.julia/v0.5/ImageCore/src/map.jl:87.\n",
      "WARNING: Method definition mapc(Any, Number) in module ColorTypes at /home/rpm/.julia/v0.5/ColorTypes/src/operations.jl:101 overwritten in module ImageCore at /home/rpm/.julia/v0.5/ImageCore/src/map.jl:87.\n",
      "WARNING: Method definition count() in module IterTools at deprecated.jl:49 overwritten in module Iterators at deprecated.jl:49.\n",
      "WARNING: Method definition count(Number) in module IterTools at deprecated.jl:49 overwritten in module Iterators at deprecated.jl:49.\n",
      "WARNING: Method definition count(Number, Number) in module IterTools at deprecated.jl:49 overwritten in module Iterators at deprecated.jl:49.\n"
     ]
    },
    {
     "ename": "LoadError",
     "evalue": "LoadError: LoadError: syntax: \"*\" is not a unary operator\nwhile loading /home/rpm/STARAS/Lane-Grid Simulations/Model.jl, in expression starting on line 56\nwhile loading In[1], in expression starting on line 5",
     "output_type": "error",
     "traceback": [
      "LoadError: LoadError: syntax: \"*\" is not a unary operator\nwhile loading /home/rpm/STARAS/Lane-Grid Simulations/Model.jl, in expression starting on line 56\nwhile loading In[1], in expression starting on line 5",
      "",
      " in include_from_node1(::String) at ./loading.jl:488"
     ]
    }
   ],
   "source": [
    "using ODE, Gadfly, Colors, ColorSchemes, DataFrames, Compose\n",
    "\n",
    "lane_num = 20 #Number of different diffusion coefficients (equal to rownumbers)\n",
    "\n",
    "include(\"Model.jl\")\n",
    "include(\"Plotter.jl\")\n",
    "include(\"Functions.jl\")\n",
    ";"
   ]
  },
  {
   "cell_type": "code",
   "execution_count": 2,
   "metadata": {
    "collapsed": false
   },
   "outputs": [
    {
     "ename": "LoadError",
     "evalue": "LoadError: UndefVarError: declare_darray not defined\nwhile loading In[2], in expression starting on line 15",
     "output_type": "error",
     "traceback": [
      "LoadError: UndefVarError: declare_darray not defined\nwhile loading In[2], in expression starting on line 15",
      ""
     ]
    }
   ],
   "source": [
    "col_num = 20\n",
    "\n",
    "a_con = 15\n",
    "a_ast = 0.762\n",
    "\n",
    "#Build plate\n",
    "node_x = node([5e5,5e5],[0],2000,1/(col_num+1),1/(lane_num+1))\n",
    "#              [bact] [antibiotic] [resource] xpos ypos ]\n",
    "\n",
    "lane_0 = [deepcopy(node_x) for i=1:col_num]\n",
    "\n",
    "\n",
    "lane_0[1].A = [a_con]\n",
    "\n",
    "d0 = declare_darray(lane_0)\n",
    "\n",
    "#Conectivity matrix\n",
    "con_mat1 = build_ccon(lane_num,col_num)\n",
    "\n",
    "con_mat = [copy(con_mat1)*(1/lane_num)*(i-1) for i=1:lane_num]\n",
    ";"
   ]
  },
  {
   "cell_type": "code",
   "execution_count": 3,
   "metadata": {
    "collapsed": false
   },
   "outputs": [
    {
     "ename": "LoadError",
     "evalue": "LoadError: UndefVarError: iter_lane not defined\nwhile loading In[3], in expression starting on line 1",
     "output_type": "error",
     "traceback": [
      "LoadError: UndefVarError: iter_lane not defined\nwhile loading In[3], in expression starting on line 1",
      "",
      " in collect(::Base.Generator{UnitRange{Int64},##3#4}) at ./array.jl:307"
     ]
    }
   ],
   "source": [
    "result = [iter_lane(con_mat[x]) for x=1:lane_num]\n",
    ";"
   ]
  },
  {
   "cell_type": "code",
   "execution_count": 4,
   "metadata": {
    "collapsed": true
   },
   "outputs": [],
   "source": [
    "lanename = [string(\"lane\", i, \".svg\") for i=1:lane_num]\n",
    "dir = \"plots/20x20/\";\n",
    "try mkdir(dir) catch end"
   ]
  },
  {
   "cell_type": "code",
   "execution_count": 5,
   "metadata": {
    "collapsed": false
   },
   "outputs": [
    {
     "ename": "LoadError",
     "evalue": "LoadError: UndefVarError: search_tast_SR not defined\nwhile loading In[5], in expression starting on line 1",
     "output_type": "error",
     "traceback": [
      "LoadError: UndefVarError: search_tast_SR not defined\nwhile loading In[5], in expression starting on line 1",
      ""
     ]
    }
   ],
   "source": [
    "(t_ast,S_R,SR_t) = search_tast_SR(result,a_ast,lane_num,col_num);"
   ]
  },
  {
   "cell_type": "code",
   "execution_count": 6,
   "metadata": {
    "collapsed": false
   },
   "outputs": [
    {
     "ename": "LoadError",
     "evalue": "LoadError: UndefVarError: S_R not defined\nwhile loading In[6], in expression starting on line 1",
     "output_type": "error",
     "traceback": [
      "LoadError: UndefVarError: S_R not defined\nwhile loading In[6], in expression starting on line 1",
      ""
     ]
    }
   ],
   "source": [
    "result_df = DataFrame(Con_Coef = round(repeat(0:col_num-1,outer=lane_num)*(1/lane_num),2),Distance_to_Source=repeat(0:lane_num-1,inner=col_num), Res_Rel_Freq=S_R[:], t_ast=round(t_ast[:],1));"
   ]
  },
  {
   "cell_type": "code",
   "execution_count": 7,
   "metadata": {
    "collapsed": false
   },
   "outputs": [],
   "source": [
    "# Theme for plots\n",
    "Gadfly.push_theme(Theme(\n",
    "point_size = 0.0065w,\n",
    "minor_label_font_size = 0.4cm,\n",
    "major_label_font_size = 0.4cm,\n",
    "key_title_font_size = 0.3cm,\n",
    "line_style = :dash,\n",
    "panel_fill = \"white\",\n",
    "background_color = \"white\",\n",
    "grid_color=color(colorant\"light gray\"),\n",
    "major_label_font=\"Helvetica\",\n",
    "major_label_color=color(colorant\"black\"),\n",
    "key_title_color=color(colorant\"black\"),\n",
    "minor_label_font=\"Helvetica\",\n",
    "key_label_font=\"Helvetica\"))"
   ]
  },
  {
   "cell_type": "code",
   "execution_count": 8,
   "metadata": {
    "collapsed": false
   },
   "outputs": [
    {
     "ename": "LoadError",
     "evalue": "LoadError: UndefVarError: result_df not defined\nwhile loading In[8], in expression starting on line 1",
     "output_type": "error",
     "traceback": [
      "LoadError: UndefVarError: result_df not defined\nwhile loading In[8], in expression starting on line 1",
      ""
     ]
    }
   ],
   "source": [
    "p = plot(result_df[result_df[:Distance_to_Source].>0,:],\n",
    "    x=:Distance_to_Source,\n",
    "    y=:Res_Rel_Freq,\n",
    "    color=:Con_Coef,\n",
    "    Geom.line, Geom.point,\n",
    "    Guide.xticks(ticks=[maximum(result_df[:Distance_to_Source]):-1:1;],orientation=:vertical),\n",
    "    Guide.yticks(ticks=[floor(minimum(result_df[:Res_Rel_Freq]),1):0.1:ceil(maximum(result_df[:Res_Rel_Freq]));]),\n",
    "    Guide.xlabel(\"Distance to source\"),\n",
    "    Guide.ylabel(\"Resistant Relative Frequency\"),\n",
    "    Guide.title(\"Distance effect on Resistance Selection\"),\n",
    "    Guide.colorkey(title=\"Con. Coef.\",pos=[0.75w,-.25h]))\n",
    "\n",
    "#draw(SVG(dir*\"RF_vs_Distance.svg\",15cm,15cm),p)\n",
    "#draw(PNG(dir*\"RF_vs_Distance.png\",15cm,15cm),p)\n",
    "\n",
    "display(p)"
   ]
  },
  {
   "cell_type": "code",
   "execution_count": 9,
   "metadata": {
    "collapsed": false,
    "scrolled": true
   },
   "outputs": [
    {
     "ename": "LoadError",
     "evalue": "LoadError: UndefVarError: result_df not defined\nwhile loading In[9], in expression starting on line 1",
     "output_type": "error",
     "traceback": [
      "LoadError: UndefVarError: result_df not defined\nwhile loading In[9], in expression starting on line 1",
      ""
     ]
    }
   ],
   "source": [
    "p = plot(result_df[result_df[:t_ast]  .> 0,:],y=:Distance_to_Source,x=:t_ast,color=:Con_Coef,Geom.line, Geom.point,\n",
    "Guide.yticks(ticks=[1:maximum(result_df[result_df[:t_ast]  .> 0,:Distance_to_Source])+1;],orientation=:vertical),\n",
    "Guide.xticks(ticks=[0:2:ceil(maximum(result_df[:t_ast]));]),\n",
    "style(point_size=0.006w),\n",
    "Guide.ylabel(\"Distance to source\"),\n",
    "Guide.xlabel(\"Time for [ANT] >= [ANT]*\"),\n",
    "Guide.title(\"Distance effect on Antibiotic Diffusion\"),\n",
    "Guide.xrug,\n",
    "Guide.colorkey(title=\"Con. Coef.\",pos=[0.05w,-0.25h]))\n",
    "draw(SVG(dir*\"Distance_vs_t_ast.svg\",15cm,15cm),p)\n",
    "draw(PNG(dir*\"Distance_vs_t_ast.png\",15cm,15cm),p)\n",
    "display(p)"
   ]
  },
  {
   "cell_type": "code",
   "execution_count": 10,
   "metadata": {
    "collapsed": false
   },
   "outputs": [
    {
     "ename": "LoadError",
     "evalue": "LoadError: UndefVarError: result_df not defined\nwhile loading In[10], in expression starting on line 2",
     "output_type": "error",
     "traceback": [
      "LoadError: UndefVarError: result_df not defined\nwhile loading In[10], in expression starting on line 2",
      ""
     ]
    }
   ],
   "source": [
    "#Gadfly.pop_theme()\n",
    "p = plot(result_df[result_df[:t_ast]  .> 0,:],x=:t_ast,y=:Res_Rel_Freq,color=:Con_Coef,\n",
    "Geom.point,\n",
    "Guide.yticks(ticks=[0.3:0.1:1;]),\n",
    "Guide.xlabel(\"Time for [ANT] >= [ANT]*\"),\n",
    "Guide.ylabel(\"Resistant Relative Frequency\"),\n",
    "Guide.title(\"Time of antibiotic diffusion effect on Resistance Selection\"),\n",
    "Guide.colorkey(title=\"Con. Coef\",pos=[0.7w,-0.2h]))\n",
    "\n",
    "#draw(SVG(dir*\"t_ast_vs_RF.svg\",15,15cm),p) not working TODO: FIX\n",
    "draw(PNG(dir*\"t_ast_vs_RF.png\",15cm,15cm),p)\n",
    "\n",
    "display(p)"
   ]
  }
 ],
 "metadata": {
  "kernelspec": {
   "display_name": "Julia 0.5.0",
   "language": "julia",
   "name": "julia-0.5"
  },
  "language_info": {
   "file_extension": ".jl",
   "mimetype": "application/julia",
   "name": "julia",
   "version": "0.5.0"
  }
 },
 "nbformat": 4,
 "nbformat_minor": 1
}
