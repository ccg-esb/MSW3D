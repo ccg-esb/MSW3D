{
 "cells": [
  {
   "cell_type": "markdown",
   "metadata": {},
   "source": [
    "## Hexagon Bin Plotter"
   ]
  },
  {
   "cell_type": "markdown",
   "metadata": {},
   "source": [
    "We call the libraries and the data from the experiment"
   ]
  },
  {
   "cell_type": "code",
   "execution_count": null,
   "metadata": {
    "collapsed": false
   },
   "outputs": [],
   "source": [
    "import numpy as np\n",
    "import matplotlib.pyplot as plt\n",
    "import pandas as pd\n",
    "import statsmodels.api as sm\n",
    "import os\n",
    "\n",
    "if not os.path.exists(\"Figures\"):\n",
    "    os.makedirs(\"Figures\")"
   ]
  },
  {
   "cell_type": "code",
   "execution_count": null,
   "metadata": {
    "collapsed": true
   },
   "outputs": [],
   "source": [
    "mydata = np.genfromtxt(\"out_watts\",delimiter=\"\\t\")"
   ]
  },
  {
   "cell_type": "code",
   "execution_count": null,
   "metadata": {
    "collapsed": true
   },
   "outputs": [],
   "source": [
    "density = [i[5] for i in mydata]\n",
    "clustc = [i[6] for i in mydata]\n",
    "Res_RelFreq = [i[1]/(i[0]+i[1]) for i in mydata]\n",
    "Res = [i[1] for i in mydata]\n",
    "Suc = [i[0] for i in mydata]\n",
    "Res_WinFreq = [i[3]/(i[2]+i[3]) for i in mydata]\n",
    "Res_DScore = [i[3]/50 for i in mydata]\n",
    "Suc_DScore = [i[2]/50 for i in mydata]"
   ]
  },
  {
   "cell_type": "markdown",
   "metadata": {},
   "source": [
    "We generate the function for plotting many comparisons"
   ]
  },
  {
   "cell_type": "code",
   "execution_count": null,
   "metadata": {
    "collapsed": true
   },
   "outputs": [],
   "source": [
    "def plot_comparison(x,y,xlab,ylab,title1,title2):\n",
    "    \n",
    "    x = np.array(x)\n",
    "    y = np.array(y)\n",
    "    xmin = x.min()\n",
    "    xmax = x.max()\n",
    "    ymin = y.min()\n",
    "    ymax = y.max()\n",
    "\n",
    "    fig, axs = plt.subplots(ncols=2, sharey=True, figsize=(10, 4))\n",
    "    fig.subplots_adjust(wspace=1, left=0, right=1)\n",
    "    ax = axs[0]\n",
    "    hb = ax.hexbin(x, y, gridsize=40, cmap='inferno')\n",
    "    ax.axis([xmin, xmax, ymin, ymax])\n",
    "    ax.set_title(title1)\n",
    "    ax.set_xlabel(xlab)\n",
    "    ax.set_ylabel(ylab)\n",
    "    cb = fig.colorbar(hb, ax=ax)\n",
    "    cb.set_label('counts')\n",
    "\n",
    "    ax = axs[1]\n",
    "    hb = ax.hexbin(x, y, gridsize=40, bins='log', cmap='inferno')\n",
    "    ax.axis([xmin, xmax, ymin, ymax])\n",
    "    ax.set_title(title2)\n",
    "    ax.set_xlabel(xlab)\n",
    "    ax.set_ylabel(ylab)\n",
    "    cb = fig.colorbar(hb, ax=ax)\n",
    "    cb.set_label('log10(counts)')\n",
    "    \n",
    "    plt.savefig(\"Figures/\"+title1, bbox_inches='tight')\n",
    "    plt.show()"
   ]
  },
  {
   "cell_type": "markdown",
   "metadata": {},
   "source": [
    "### Density vs S/R Ratio"
   ]
  },
  {
   "cell_type": "code",
   "execution_count": null,
   "metadata": {
    "collapsed": false
   },
   "outputs": [],
   "source": [
    "plot_comparison(density,Res_DScore,\"Density\",\"Resistant Relative Frequency\",\"Resistant Population Selection depending on Density\",\"Resistant Population Selection depending on Density (log)\")"
   ]
  },
  {
   "cell_type": "markdown",
   "metadata": {},
   "source": [
    "### Clustering Coefficent vs Resistant Relative Frequency"
   ]
  },
  {
   "cell_type": "code",
   "execution_count": null,
   "metadata": {
    "collapsed": false
   },
   "outputs": [],
   "source": [
    "plot_comparison(clustc,Res_RelFreq,\"Clustering Coefficient\",\"Resistant Relative Frequency\",\"Resistant Population Selection depending on Clustering\",\"Resistant Population Selection depending on Clustering (log)\")"
   ]
  },
  {
   "cell_type": "markdown",
   "metadata": {},
   "source": [
    "### Clustering coefficient vs Resistant D-Score"
   ]
  },
  {
   "cell_type": "code",
   "execution_count": null,
   "metadata": {
    "collapsed": true
   },
   "outputs": [],
   "source": [
    "plot_comparison(clustc,Res_DScore,\"Clustering Coefficient\",\"Resistant D-Score\",\"Resistant D-Score depending on Clustering\",\"Resistant D-Score depending on Clustering (log)\")"
   ]
  },
  {
   "cell_type": "markdown",
   "metadata": {},
   "source": [
    "### Relationship between Node Winners and S/R Ratio"
   ]
  },
  {
   "cell_type": "code",
   "execution_count": null,
   "metadata": {
    "collapsed": false
   },
   "outputs": [],
   "source": [
    "plot_comparison(Res_DScore,Res_RelFreq,\"Number of nodes where Resistant Won\",\"S/R Population Ratio\",\"Relation between Node Winners and Population Ratio\",\"Relation between Node Winners and Population Ratio(log)\")"
   ]
  }
 ],
 "metadata": {
  "kernelspec": {
   "display_name": "Python 3",
   "language": "python",
   "name": "python3"
  },
  "language_info": {
   "codemirror_mode": {
    "name": "ipython",
    "version": 3
   },
   "file_extension": ".py",
   "mimetype": "text/x-python",
   "name": "python",
   "nbconvert_exporter": "python",
   "pygments_lexer": "ipython3",
   "version": "3.4.3"
  }
 },
 "nbformat": 4,
 "nbformat_minor": 1
}
