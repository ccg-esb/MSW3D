{
 "cells": [
  {
   "cell_type": "markdown",
   "metadata": {},
   "source": [
    "## Hexagon Bin Plotter for Network Attacks"
   ]
  },
  {
   "cell_type": "markdown",
   "metadata": {},
   "source": [
    "We call the libraries and the data from the experiment"
   ]
  },
  {
   "cell_type": "code",
   "execution_count": null,
   "metadata": {
    "collapsed": false
   },
   "outputs": [],
   "source": [
    "import numpy as np\n",
    "import matplotlib.pyplot as plt\n",
    "import pandas as pd\n",
    "import statsmodels.api as sm\n",
    "import os\n",
    "\n",
    "if not os.path.exists(\"Figures\"):\n",
    "    os.makedirs(\"Figures\")"
   ]
  },
  {
   "cell_type": "code",
   "execution_count": null,
   "metadata": {
    "collapsed": false
   },
   "outputs": [],
   "source": [
    "def load_data(filedir):\n",
    "    \n",
    "    mydata = np.genfromtxt(filedir,delimiter=\"\\t\")\n",
    "    TotalDensity = [i[0] for i in mydata] #Total bacterial density\n",
    "    Suc = [i[1] for i in mydata] #Susceptible strain total density\n",
    "    Res = [i[2] for i in mydata] #Resistant strain total density\n",
    "    Rel_Freq = [i[2]/(i[1]+i[2]) for i in mydata] #Resistant Relative Frequency\n",
    "    Suc_win = [i[3] for i in mydata] #Number of wins of Susceptible strain\n",
    "    Res_win = [i[4] for i in mydata] #Number of wins of Resistant strain\n",
    "    R_S_winratio = [i[4]/(i[3]+i[4]) for i in mydata]#node-to-node Resistant WinRatio\n",
    "    Netdensity = [i[6] for i in mydata] #Network density\n",
    "    clustc = [i[7] for i in mydata] #Network clustering coefficient\n",
    "    clo_centr = [i[8] for i in mydata] #Closeness centrality\n",
    "    ant_deg = [i[9] for i in mydata] #Antibiotic source connectivity\n",
    "    bet_centr = [i[10] for i in mydata] #Betweeness centrality\n",
    "\n",
    "    d = {'TotDen':TotalDensity,'SucDen':Suc,'ResDen':Res,'Rel_Freq':Rel_Freq,\n",
    "           'Suc_win':Suc_win, 'Res_win':Res_win, 'R_S_winratio':R_S_winratio,\n",
    "           'NetDen':Netdensity,'ClustC':clustc,'clo_centr':clo_centr,'ant_deg':ant_deg,\n",
    "           'bet_centr':bet_centr}\n",
    "    return pd.DataFrame(d)"
   ]
  },
  {
   "cell_type": "markdown",
   "metadata": {},
   "source": [
    "We load the data into a dataframe"
   ]
  },
  {
   "cell_type": "code",
   "execution_count": null,
   "metadata": {
    "collapsed": false
   },
   "outputs": [],
   "source": [
    "df = load_data(\"output/NetAttack_watts_out\")"
   ]
  },
  {
   "cell_type": "code",
   "execution_count": null,
   "metadata": {
    "collapsed": false
   },
   "outputs": [],
   "source": [
    "fig, axs = plt.subplots(ncols=2, sharey=False, figsize=(10, 4))\n",
    "fig.subplots_adjust(wspace=1, left=0, right=1)\n",
    "\n",
    "ax = axs[0]\n",
    "\n",
    "ax.violinplot(dataset = [df[df.ant_deg == i]['TotDen'] for i in sorted(df.ant_deg.unique())])\n",
    "\n",
    "ax.set_title('Effect of the antibiotic source connectivity on Total density', y = 1.07)\n",
    "ax.set_xticks(range(1,len(df.ant_deg.unique())+1))\n",
    "ax.set_xticklabels([int(i) for i in sorted(df.ant_deg.unique())])\n",
    "ax.yaxis.grid(True)\n",
    "ax.set_xlabel('Degree of the node with antibiotic at t=0')\n",
    "ax.set_ylabel('Total Bacterial Density (S+R)')\n",
    "\n",
    "ax = axs[1]\n",
    "\n",
    "ax.violinplot(dataset = [df[df.ant_deg == i]['Rel_Freq'] for i in sorted(df.ant_deg.unique())])\n",
    "\n",
    "ax.set_title('Effect of the antibiotic source connectivity on Rel.Freq', y = 1.07)\n",
    "ax.set_xticks(range(1,len(df.ant_deg.unique())+1))\n",
    "ax.set_xticklabels([int(i) for i in sorted(df.ant_deg.unique())],rotation=70)\n",
    "ax.yaxis.grid(True)\n",
    "ax.set_xlabel('Degree of the node with antibiotic at t=0')\n",
    "ax.set_ylabel('Relative Frequency (R/(S+R)')\n",
    "\n",
    "plt.savefig(\"Figures/violplot_SouCon_Effect\", bbox_inches='tight')\n",
    "plt.show()"
   ]
  }
 ],
 "metadata": {
  "kernelspec": {
   "display_name": "Python 3",
   "language": "python",
   "name": "python3"
  },
  "language_info": {
   "codemirror_mode": {
    "name": "ipython",
    "version": 3
   },
   "file_extension": ".py",
   "mimetype": "text/x-python",
   "name": "python",
   "nbconvert_exporter": "python",
   "pygments_lexer": "ipython3",
   "version": "3.4.3"
  }
 },
 "nbformat": 4,
 "nbformat_minor": 1
}
