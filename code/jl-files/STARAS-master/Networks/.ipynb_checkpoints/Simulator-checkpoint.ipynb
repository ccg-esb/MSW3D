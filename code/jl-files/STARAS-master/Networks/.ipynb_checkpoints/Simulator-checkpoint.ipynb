{
 "cells": [
  {
   "cell_type": "code",
   "execution_count": null,
   "metadata": {
    "collapsed": false
   },
   "outputs": [],
   "source": [
    "using ODE\n",
    "using LightGraphs\n",
    "\n",
    "node_num = 20 #Number of different diffusion coefficients (equal to rownumbers)\n",
    "mean_edges = 3\n",
    "chan_len = 0.2\n",
    "ant_to_node = 20\n",
    "\n",
    "include(\"Model.jl\")\n",
    "include(\"Plotter.jl\")\n",
    "include(\"Functions.jl\")\n",
    ";"
   ]
  },
  {
   "cell_type": "code",
   "execution_count": null,
   "metadata": {
    "collapsed": false
   },
   "outputs": [],
   "source": [
    "sim_watts(1000000,\"watts1.txt\")"
   ]
  },
  {
   "cell_type": "code",
   "execution_count": null,
   "metadata": {
    "collapsed": false
   },
   "outputs": [],
   "source": [
    "p_plate(erdos_res,erdos_vert)"
   ]
  },
  {
   "cell_type": "code",
   "execution_count": null,
   "metadata": {
    "collapsed": false
   },
   "outputs": [],
   "source": [
    "p_plate(watts_res,watts_vert)"
   ]
  }
 ],
 "metadata": {
  "kernelspec": {
   "display_name": "Julia 0.5.0",
   "language": "julia",
   "name": "julia-0.5"
  },
  "language_info": {
   "file_extension": ".jl",
   "mimetype": "application/julia",
   "name": "julia",
   "version": "0.5.0"
  }
 },
 "nbformat": 4,
 "nbformat_minor": 1
}
