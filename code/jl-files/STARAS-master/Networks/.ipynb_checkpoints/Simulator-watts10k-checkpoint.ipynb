{
 "cells": [
  {
   "cell_type": "code",
   "execution_count": 7,
   "metadata": {
    "collapsed": false
   },
   "outputs": [
    {
     "name": "stderr",
     "output_type": "stream",
     "text": [
      "WARNING: Method definition (::Type{Main.bact})(Float64, Float64, Float64, Float64, Float64) in module Main at /home/rpm/BGS3/Networks/Model.jl:5 overwritten at /home/rpm/BGS3/Networks/Model.jl:5.\n",
      "WARNING: Method definition (::Type{Main.bact})(Any, Any, Any, Any, Any) in module Main at /home/rpm/BGS3/Networks/Model.jl:5 overwritten at /home/rpm/BGS3/Networks/Model.jl:5.\n",
      "WARNING: Method definition (::Type{Main.antb})(Float64) in module Main at /home/rpm/BGS3/Networks/Model.jl:13 overwritten at /home/rpm/BGS3/Networks/Model.jl:13.\n",
      "WARNING: Method definition (::Type{Main.antb})(Any) in module Main at /home/rpm/BGS3/Networks/Model.jl:13 overwritten at /home/rpm/BGS3/Networks/Model.jl:13.\n",
      "WARNING: Method definition (::Type{Main.node})(Int32, Array{Float64, N<:Any}, Array{Float64, N<:Any}, Float64, Float64, Float64) in module Main at /home/rpm/BGS3/Networks/Model.jl:17 overwritten at /home/rpm/BGS3/Networks/Model.jl:17.\n",
      "WARNING: Method definition (::Type{Main.node})(Any, Any, Any, Any, Any, Any) in module Main at /home/rpm/BGS3/Networks/Model.jl:17 overwritten at /home/rpm/BGS3/Networks/Model.jl:17.\n",
      "WARNING: Method definition u(Float64, Main.bact) in module Main at /home/rpm/BGS3/Networks/Model.jl:29 overwritten at /home/rpm/BGS3/Networks/Model.jl:29.\n",
      "WARNING: Method definition G(Function, Main.bact, Float64) in module Main at /home/rpm/BGS3/Networks/Model.jl:33 overwritten at /home/rpm/BGS3/Networks/Model.jl:33.\n",
      "WARNING: Method definition update(Any, Any) in module Main at /home/rpm/BGS3/Networks/Model.jl:57 overwritten at /home/rpm/BGS3/Networks/Model.jl:57.\n",
      "WARNING: Method definition p_plate(Any, Any) in module Main at /home/rpm/BGS3/Networks/Plotter.jl:5 overwritten at /home/rpm/BGS3/Networks/Plotter.jl:5.\n",
      "WARNING: Method definition get_data(Main.node) in module Main at /home/rpm/BGS3/Networks/Functions.jl:4 overwritten at /home/rpm/BGS3/Networks/Functions.jl:4.\n",
      "WARNING: Method definition declare_darray(Any) in module Main at /home/rpm/BGS3/Networks/Functions.jl:13 overwritten at /home/rpm/BGS3/Networks/Functions.jl:13.\n",
      "WARNING: Method definition create_node(Any) in module Main at /home/rpm/BGS3/Networks/Functions.jl:23 overwritten at /home/rpm/BGS3/Networks/Functions.jl:23.\n",
      "WARNING: Method definition search_hub(Any) in module Main at /home/rpm/BGS3/Networks/Functions.jl:28 overwritten at /home/rpm/BGS3/Networks/Functions.jl:28.\n",
      "WARNING: Method definition iter(Any, Any) in module Main at /home/rpm/BGS3/Networks/Functions.jl:46 overwritten at /home/rpm/BGS3/Networks/Functions.jl:46.\n",
      "WARNING: Method definition quantify_wins(Any) in module Main at /home/rpm/BGS3/Networks/Functions.jl:72 overwritten at /home/rpm/BGS3/Networks/Functions.jl:72.\n",
      "WARNING: Method definition evaluate(Any) in module Main at /home/rpm/BGS3/Networks/Functions.jl:95 overwritten at /home/rpm/BGS3/Networks/Functions.jl:95.\n",
      "WARNING: Method definition create_erdos(Any, Any, Any, Any) in module Main at /home/rpm/BGS3/Networks/Functions.jl:108 overwritten at /home/rpm/BGS3/Networks/Functions.jl:108.\n",
      "WARNING: Method definition create_erdos(Any, Any, Any, Any, Any) in module Main at /home/rpm/BGS3/Networks/Functions.jl:108 overwritten at /home/rpm/BGS3/Networks/Functions.jl:108.\n",
      "WARNING: Method definition create_watts(Any, Any, Any, Any) in module Main at /home/rpm/BGS3/Networks/Functions.jl:122 overwritten at /home/rpm/BGS3/Networks/Functions.jl:122.\n",
      "WARNING: Method definition create_watts(Any, Any, Any, Any, Any) in module Main at /home/rpm/BGS3/Networks/Functions.jl:122 overwritten at /home/rpm/BGS3/Networks/Functions.jl:122.\n",
      "WARNING: Method definition sim_network(Any, Any) in module Main at /home/rpm/BGS3/Networks/Functions.jl:134 overwritten at /home/rpm/BGS3/Networks/Functions.jl:134.\n"
     ]
    },
    {
     "ename": "LoadError",
     "evalue": "LoadError: LoadError: syntax: unexpected ,\nwhile loading /home/rpm/BGS3/Networks/Functions.jl, in expression starting on line 148\nwhile loading In[7], in expression starting on line 11",
     "output_type": "error",
     "traceback": [
      "LoadError: LoadError: syntax: unexpected ,\nwhile loading /home/rpm/BGS3/Networks/Functions.jl, in expression starting on line 148\nwhile loading In[7], in expression starting on line 11",
      "",
      " in include_from_node1(::String) at ./loading.jl:488"
     ]
    }
   ],
   "source": [
    "using ODE\n",
    "using LightGraphs\n",
    "\n",
    "node_num = 20 #Number of different diffusion coefficients (equal to rownumbers)\n",
    "mean_edges = 3\n",
    "chan_len = 0.2\n",
    "ant_to_node = 18\n",
    "\n",
    "include(\"Model.jl\")\n",
    "include(\"Plotter.jl\")\n",
    "include(\"Functions.jl\")\n",
    ";"
   ]
  },
  {
   "cell_type": "code",
   "execution_count": 8,
   "metadata": {
    "collapsed": false
   },
   "outputs": [
    {
     "ename": "LoadError",
     "evalue": "LoadError: Infinite path length detected\nwhile loading In[8], in expression starting on line 1",
     "output_type": "error",
     "traceback": [
      "LoadError: Infinite path length detected\nwhile loading In[8], in expression starting on line 1",
      "",
      " in eccentricity(::LightGraphs.Graph, ::Int64, ::LightGraphs.DefaultDistance) at /usr/local/share/julia/site/v0.5/LightGraphs/src/distance.jl:42",
      " in collect(::Base.Generator{UnitRange{Int64},LightGraphs.##33#34{LightGraphs.Graph,LightGraphs.DefaultDistance}}) at ./array.jl:307",
      " in diameter(::LightGraphs.Graph, ::LightGraphs.DefaultDistance) at /usr/local/share/julia/site/v0.5/LightGraphs/src/distance.jl:59 (repeats 2 times)",
      " in sim_watts(::Int64, ::String) at /home/rpm/BGS3/Networks/Functions.jl:160"
     ]
    }
   ],
   "source": [
    "sim_watts(10,\"watts_test.txt\")"
   ]
  }
 ],
 "metadata": {
  "kernelspec": {
   "display_name": "Julia 0.5.0",
   "language": "julia",
   "name": "julia-0.5"
  },
  "language_info": {
   "file_extension": ".jl",
   "mimetype": "application/julia",
   "name": "julia",
   "version": "0.5.0"
  }
 },
 "nbformat": 4,
 "nbformat_minor": 1
}
