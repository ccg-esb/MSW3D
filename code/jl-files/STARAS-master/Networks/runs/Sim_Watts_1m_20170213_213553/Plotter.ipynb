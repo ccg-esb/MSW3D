{
 "cells": [
  {
   "cell_type": "code",
   "execution_count": null,
   "metadata": {
    "collapsed": false
   },
   "outputs": [],
   "source": [
    "import matplotlib.pyplot as plt\n",
    "import numpy as np\n",
    "from mpl_toolkits.mplot3d import Axes3D\n",
    "from matplotlib import cm"
   ]
  },
  {
   "cell_type": "code",
   "execution_count": null,
   "metadata": {
    "collapsed": true
   },
   "outputs": [],
   "source": [
    "mydata = np.genfromtxt(\"out_watts\",delimiter=\"\\t\")"
   ]
  },
  {
   "cell_type": "code",
   "execution_count": null,
   "metadata": {
    "collapsed": true
   },
   "outputs": [],
   "source": [
    "clustc = [i[6] for i in mydata]\n",
    "S_R_ratio = [i[0]/i[1] for i in mydata]\n",
    "S_R_winratio = [i[2]/i[3] for i in mydata]"
   ]
  },
  {
   "cell_type": "code",
   "execution_count": null,
   "metadata": {
    "collapsed": false,
    "scrolled": true
   },
   "outputs": [],
   "source": [
    "%matplotlib inline\n",
    "plt.plot(S_R_ratio,clustc,'ro')\n",
    "plt.xlabel(\"S_R Ratio\")\n",
    "plt.ylabel(\"Clustering Coefficient\")\n",
    "plt.annotate('N=50,A=40,clen=0.2', xy=(0.95, 0.85), xycoords='axes fraction')\n",
    "plt.show()"
   ]
  },
  {
   "cell_type": "code",
   "execution_count": null,
   "metadata": {
    "collapsed": false
   },
   "outputs": [],
   "source": [
    "\n",
    "def count(a,b):\n",
    "    miny  = round(min(b),3)\n",
    "    minx = round(min(a),3)\n",
    "    \n",
    "    maxy = round(max(b),3)\n",
    "    maxx = round(max(a),3)\n",
    "    \n",
    "    x = np.linspace(minx,maxx,(maxx-minx)*100+2)\n",
    "    y = np.linspace(miny,maxy,(maxy-miny)*100+2)\n",
    "\n",
    "    counts = np.zeros((len(y),len(x)))\n",
    "    min_x = int(round(100*min(a)))\n",
    "    min_y = int(round(100*min(b)))\n",
    "    a1= [int(round(100 * i)) for i in a]\n",
    "    b1= [int(round(100 * i)) for i in b]\n",
    "    \n",
    "    for i in range(len(a)):\n",
    "        counts[b1[i]-min_y,a1[i]-min_x] +=1\n",
    "        \n",
    "    freq_vec = [0] * len(a)\n",
    "    for i in range(len(a)):\n",
    "        freq_vec[i]=counts[b1[i]-min_y,a1[i]-min_x]\n",
    "    return [x,y,counts,freq_vec] "
   ]
  },
  {
   "cell_type": "code",
   "execution_count": null,
   "metadata": {
    "collapsed": true
   },
   "outputs": [],
   "source": [
    "x,y,z,freq_vec = count(clustc,S_R_winratio)"
   ]
  },
  {
   "cell_type": "code",
   "execution_count": null,
   "metadata": {
    "collapsed": false
   },
   "outputs": [],
   "source": [
    "x2,y2,z2,freq_vec2 = count(clustc,S_R_ratio)"
   ]
  },
  {
   "cell_type": "code",
   "execution_count": null,
   "metadata": {
    "collapsed": false
   },
   "outputs": [],
   "source": [
    "plt.scatter(clustc,S_R_winratio, c = freq_vec)\n",
    "plt.gray() \n",
    "cbar = plt.colorbar(cmap=cm.gray(max(freq_vec)-min(freq_vec)))\n",
    "cbar.set_label('Frequency')\n",
    "plt.title(\"Resistant Microenvironment Selection on Clustering Coefficient\")\n",
    "plt.ylabel(\"S/R Winner Ratio \")\n",
    "plt.xlabel(\"Global Clustering Coefficient\")\n",
    "plt.annotate('N=50,A=40,clen=0.2', xy=(0.95, 0.85), xycoords='axes fraction')\n",
    "plt.show()"
   ]
  },
  {
   "cell_type": "code",
   "execution_count": null,
   "metadata": {
    "collapsed": false
   },
   "outputs": [],
   "source": [
    "plt.scatter(clustc,S_R_ratio, c = freq_vec2)\n",
    "plt.gray() \n",
    "cbar = plt.colorbar(cmap=cm.gray(max(freq_vec2)-min(freq_vec2)))\n",
    "cbar.set_label('Frequency')\n",
    "plt.title(\"Resistance Population Selection on Clustering Coefficient\")\n",
    "plt.ylabel(\"S/R Total Density Ratio \")\n",
    "plt.xlabel(\"Global Clustering Coefficient\")\n",
    "plt.annotate('N=50,A=40,clen=0.2', xy=(0.95, 0.85), xycoords='axes fraction')\n",
    "plt.show()"
   ]
  },
  {
   "cell_type": "code",
   "execution_count": null,
   "metadata": {
    "collapsed": true
   },
   "outputs": [],
   "source": [
    "x, y = np.meshgrid(x, y)"
   ]
  },
  {
   "cell_type": "code",
   "execution_count": null,
   "metadata": {
    "collapsed": false
   },
   "outputs": [],
   "source": [
    "print(len(x),len(y),len(z))"
   ]
  },
  {
   "cell_type": "code",
   "execution_count": null,
   "metadata": {
    "collapsed": false
   },
   "outputs": [],
   "source": [
    "fig = plt.figure()\n",
    "ax = fig.gca(projection='3d')\n",
    "\n",
    "surf = ax.plot_surface(x,y,z,cmap=cm.coolwarm,\n",
    "                       linewidth=0.1)\n",
    "\n",
    "fig.colorbar(surf, shrink=0.5, aspect=5)\n",
    "\n",
    "ax.set_title('Node winners by clustering coefficient')\n",
    "\n",
    "xLabel = ax.set_xlabel('\\nClustering Coefficient')\n",
    "yLabel = ax.set_ylabel('S/R Winners Ratio')\n",
    "zLabel = ax.set_zlabel('\\nFrequency')\n",
    "ax.view_init(azim=30)\n",
    "\n",
    "plt.show()"
   ]
  },
  {
   "cell_type": "code",
   "execution_count": null,
   "metadata": {
    "collapsed": false
   },
   "outputs": [],
   "source": [
    "fig = plt.figure()\n",
    "ax = fig.gca(projection='3d')\n",
    "\n",
    "surf = ax.plot_surface(x[2:],y[2:],z[2:],cmap=cm.coolwarm,\n",
    "                       linewidth=0)\n",
    "\n",
    "fig.colorbar(surf, shrink=0.5, aspect=5)\n",
    "\n",
    "ax.set_title('Node winners by clustering coefficient (without first row)')\n",
    "\n",
    "xLabel = ax.set_xlabel('\\nClustering Coefficient')\n",
    "yLabel = ax.set_ylabel('S/R Ratio')\n",
    "zLabel = ax.set_zlabel('\\nFrequency')\n",
    "ax.view_init(azim=120)\n",
    "\n",
    "plt.show()"
   ]
  }
 ],
 "metadata": {
  "kernelspec": {
   "display_name": "Python 3",
   "language": "python",
   "name": "python3"
  },
  "language_info": {
   "codemirror_mode": {
    "name": "ipython",
    "version": 3
   },
   "file_extension": ".py",
   "mimetype": "text/x-python",
   "name": "python",
   "nbconvert_exporter": "python",
   "pygments_lexer": "ipython3",
   "version": "3.4.3"
  }
 },
 "nbformat": 4,
 "nbformat_minor": 1
}
