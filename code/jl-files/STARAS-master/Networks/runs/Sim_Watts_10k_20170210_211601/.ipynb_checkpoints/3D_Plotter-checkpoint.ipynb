{
 "cells": [
  {
   "cell_type": "code",
   "execution_count": 1,
   "metadata": {
    "collapsed": false
   },
   "outputs": [],
   "source": [
    "using PyPlot\n",
    "using DataFrames"
   ]
  },
  {
   "cell_type": "code",
   "execution_count": 2,
   "metadata": {
    "collapsed": true
   },
   "outputs": [
    {
     "data": {
      "text/html": [
       "<table class=\"data-frame\"><thead><tr><th></th><th>S_Density</th><th>R_Density</th><th>Nwin_Proportion</th><th>ClustC</th></tr></thead><tbody><tr><th>1</th><td>7.028704489211199e8</td><td>7.172518587715912e8</td><td>1.5</td><td>0.12389380530973451</td></tr><tr><th>2</th><td>6.881024165031149e8</td><td>6.730480345732572e8</td><td>2.5714285714285716</td><td>0.20307692307692307</td></tr><tr><th>3</th><td>7.062494644963465e8</td><td>6.962401301248386e8</td><td>1.0833333333333333</td><td>0.2897196261682243</td></tr><tr><th>4</th><td>7.003758237439681e8</td><td>7.07358397983602e8</td><td>1.5</td><td>0.24074074074074073</td></tr><tr><th>5</th><td>7.023822089276001e8</td><td>7.20556619269825e8</td><td>1.0833333333333333</td><td>0.26498422712933756</td></tr><tr><th>6</th><td>7.029976702356386e8</td><td>6.99826458815305e8</td><td>1.2727272727272727</td><td>0.12923076923076923</td></tr><tr><th>7</th><td>6.905546999245414e8</td><td>6.6917756245489e8</td><td>1.7777777777777777</td><td>0.2392638036809816</td></tr><tr><th>8</th><td>7.097448791453847e8</td><td>7.232586976487118e8</td><td>1.2727272727272727</td><td>0.16913946587537093</td></tr><tr><th>9</th><td>7.050376939789985e8</td><td>7.166498181475742e8</td><td>1.173913043478261</td><td>0.18292682926829268</td></tr><tr><th>10</th><td>6.960251334025921e8</td><td>6.987386165867935e8</td><td>1.173913043478261</td><td>0.19626168224299065</td></tr><tr><th>11</th><td>6.95012139824557e8</td><td>6.678174670365248e8</td><td>2.125</td><td>0.1792452830188679</td></tr><tr><th>12</th><td>6.998391988918673e8</td><td>6.939973917323766e8</td><td>1.173913043478261</td><td>0.24545454545454545</td></tr><tr><th>13</th><td>7.030582210625825e8</td><td>6.958126267322867e8</td><td>1.173913043478261</td><td>0.20909090909090908</td></tr><tr><th>14</th><td>6.973542273988931e8</td><td>6.908671386097875e8</td><td>1.7777777777777777</td><td>0.182370820668693</td></tr><tr><th>15</th><td>6.965506925162374e8</td><td>6.973607875718192e8</td><td>2.125</td><td>0.16822429906542055</td></tr><tr><th>16</th><td>7.024965201671708e8</td><td>7.162956304567186e8</td><td>1.380952380952381</td><td>0.13043478260869565</td></tr><tr><th>17</th><td>6.941054255096631e8</td><td>6.924786666315904e8</td><td>1.5</td><td>0.147239263803681</td></tr><tr><th>18</th><td>6.931782568910518e8</td><td>6.71488111920362e8</td><td>2.125</td><td>0.234375</td></tr><tr><th>19</th><td>7.073752330578024e8</td><td>7.054292276867771e8</td><td>1.2727272727272727</td><td>0.20496894409937888</td></tr><tr><th>20</th><td>6.991963117600492e8</td><td>6.911857838826869e8</td><td>1.7777777777777777</td><td>0.26605504587155965</td></tr><tr><th>21</th><td>7.053446783813807e8</td><td>6.520887389554161e8</td><td>1.9411764705882353</td><td>0.21362229102167182</td></tr><tr><th>22</th><td>7.040541654357257e8</td><td>7.086039181332289e8</td><td>1.7777777777777777</td><td>0.1276595744680851</td></tr><tr><th>23</th><td>7.012583882035246e8</td><td>7.082860660189627e8</td><td>1.631578947368421</td><td>0.13313609467455623</td></tr><tr><th>24</th><td>6.940792149165683e8</td><td>6.917346239342943e8</td><td>1.7777777777777777</td><td>0.23076923076923078</td></tr><tr><th>25</th><td>7.023906804904097e8</td><td>6.996485725974013e8</td><td>1.5</td><td>0.19939577039274925</td></tr><tr><th>26</th><td>6.94711921198519e8</td><td>6.677166505010874e8</td><td>1.9411764705882353</td><td>0.15838509316770186</td></tr><tr><th>27</th><td>7.056673962773975e8</td><td>7.084928421398884e8</td><td>2.3333333333333335</td><td>0.15692307692307692</td></tr><tr><th>28</th><td>6.909466033604801e8</td><td>6.54778098588609e8</td><td>2.5714285714285716</td><td>0.2445141065830721</td></tr><tr><th>29</th><td>6.893482336278558e8</td><td>6.885130553838985e8</td><td>1.9411764705882353</td><td>0.1791044776119403</td></tr><tr><th>30</th><td>7.100521650153071e8</td><td>7.240642286938705e8</td><td>1.0</td><td>0.18461538461538463</td></tr><tr><th>&vellip;</th><td>&vellip;</td><td>&vellip;</td><td>&vellip;</td><td>&vellip;</td></tr></tbody></table>"
      ],
      "text/plain": [
       "10000×4 DataFrames.DataFrame\n",
       "│ Row   │ S_Density │ R_Density │ Nwin_Proportion │ ClustC   │\n",
       "├───────┼───────────┼───────────┼─────────────────┼──────────┤\n",
       "│ 1     │ 7.0287e8  │ 7.17252e8 │ 1.5             │ 0.123894 │\n",
       "│ 2     │ 6.88102e8 │ 6.73048e8 │ 2.57143         │ 0.203077 │\n",
       "│ 3     │ 7.06249e8 │ 6.9624e8  │ 1.08333         │ 0.28972  │\n",
       "│ 4     │ 7.00376e8 │ 7.07358e8 │ 1.5             │ 0.240741 │\n",
       "│ 5     │ 7.02382e8 │ 7.20557e8 │ 1.08333         │ 0.264984 │\n",
       "│ 6     │ 7.02998e8 │ 6.99826e8 │ 1.27273         │ 0.129231 │\n",
       "│ 7     │ 6.90555e8 │ 6.69178e8 │ 1.77778         │ 0.239264 │\n",
       "│ 8     │ 7.09745e8 │ 7.23259e8 │ 1.27273         │ 0.169139 │\n",
       "│ 9     │ 7.05038e8 │ 7.1665e8  │ 1.17391         │ 0.182927 │\n",
       "│ 10    │ 6.96025e8 │ 6.98739e8 │ 1.17391         │ 0.196262 │\n",
       "│ 11    │ 6.95012e8 │ 6.67817e8 │ 2.125           │ 0.179245 │\n",
       "⋮\n",
       "│ 9989  │ 6.9128e8  │ 6.89533e8 │ 1.08333         │ 0.270186 │\n",
       "│ 9990  │ 7.0887e8  │ 6.61202e8 │ 3.54545         │ 0.20122  │\n",
       "│ 9991  │ 7.09516e8 │ 7.23315e8 │ 1.08333         │ 0.131579 │\n",
       "│ 9992  │ 6.9559e8  │ 7.00525e8 │ 1.08333         │ 0.191489 │\n",
       "│ 9993  │ 6.9352e8  │ 6.66458e8 │ 1.38095         │ 0.303681 │\n",
       "│ 9994  │ 6.95157e8 │ 7.00983e8 │ 1.94118         │ 0.120743 │\n",
       "│ 9995  │ 6.87597e8 │ 6.91154e8 │ 1.77778         │ 0.20625  │\n",
       "│ 9996  │ 6.98014e8 │ 7.04257e8 │ 1.5             │ 0.196875 │\n",
       "│ 9997  │ 7.04279e8 │ 7.16351e8 │ 1.17391         │ 0.167702 │\n",
       "│ 9998  │ 7.01537e8 │ 6.57504e8 │ 1.5             │ 0.264151 │\n",
       "│ 9999  │ 6.94497e8 │ 6.96413e8 │ 1.77778         │ 0.133531 │\n",
       "│ 10000 │ 6.98748e8 │ 6.61464e8 │ 1.38095         │ 0.189274 │"
      ]
     },
     "execution_count": 2,
     "metadata": {},
     "output_type": "execute_result"
    }
   ],
   "source": [
    "mat_watts = readdlm(\"out_watts\")\n",
    "Ndata_watts = DataFrame(S_Density = mat_watts[:,1],R_Density = mat_watts[:,2] ,Nwin_Proportion = [mat_watts[i,3]/mat_watts[i,4] for i = 1:size(mat_watts,1)], ClustC = mat_watts[:,7])"
   ]
  },
  {
   "cell_type": "code",
   "execution_count": 3,
   "metadata": {
    "collapsed": false
   },
   "outputs": [
    {
     "data": {
      "text/plain": [
       "0.071"
      ]
     },
     "execution_count": 3,
     "metadata": {},
     "output_type": "execute_result"
    }
   ],
   "source": [
    "Rel_Den = [Ndata_watts[:S_Density][i]/Ndata_watts[:R_Density][i] for i = 1:size(Ndata_watts,1)]\n",
    "miny  = round(minimum(Rel_Den),3)\n",
    "minx = round(minimum(Ndata_watts[:ClustC]),3)"
   ]
  },
  {
   "cell_type": "code",
   "execution_count": 4,
   "metadata": {
    "collapsed": false
   },
   "outputs": [
    {
     "data": {
      "text/plain": [
       "0.357"
      ]
     },
     "execution_count": 4,
     "metadata": {},
     "output_type": "execute_result"
    }
   ],
   "source": [
    "maxy = round(maximum(Rel_Den),3)\n",
    "maxx = round(maximum(Ndata_watts[:ClustC]),3)"
   ]
  },
  {
   "cell_type": "code",
   "execution_count": 5,
   "metadata": {
    "collapsed": false
   },
   "outputs": [
    {
     "data": {
      "text/plain": [
       "0.964:0.001:1.266"
      ]
     },
     "execution_count": 5,
     "metadata": {},
     "output_type": "execute_result"
    }
   ],
   "source": [
    "x = minx:0.001:maxx\n",
    "y = miny:0.001:maxy"
   ]
  },
  {
   "cell_type": "code",
   "execution_count": 16,
   "metadata": {
    "collapsed": false
   },
   "outputs": [
    {
     "name": "stderr",
     "output_type": "stream",
     "text": [
      "WARNING: Method definition count(Any, Any) in module Main at In[14]:2 overwritten at In[16]:2.\n"
     ]
    },
    {
     "data": {
      "text/plain": [
       "count (generic function with 1 method)"
      ]
     },
     "execution_count": 16,
     "metadata": {},
     "output_type": "execute_result"
    }
   ],
   "source": [
    "function count(a,b)\n",
    "    counts = Array{Float64,2}(size(x,1),size(y,1))\n",
    "    min_x = convert(Int,trunc(round(1000*minimum(a))))\n",
    "    min_y = convert(Int,trunc(round(1000*minimum(b))))\n",
    "    a= convert(Array{Int},trunc(round(1000 .* a))).+1\n",
    "    b= convert(Array{Int},trunc(round(1000 .* b))).+1\n",
    "    for i=1:size(a,1)\n",
    "        counts[a[i]-min_x,b[i]-min_y] += 1\n",
    "    end\n",
    "    return counts\n",
    "end"
   ]
  },
  {
   "cell_type": "code",
   "execution_count": 17,
   "metadata": {
    "collapsed": true
   },
   "outputs": [
    {
     "data": {
      "text/plain": [
       "287×303 Array{Float64,2}:\n",
       " 6.92543e-310    0.0           …    2.56257e-316  NaN           \n",
       " 5.92881e-316    0.0              NaN               4.25294e-316\n",
       " 5.92881e-316    0.0                4.30275e-316    2.31083e-316\n",
       " 5.92881e-316    0.0                2.26016e-316    2.31084e-316\n",
       " 0.0             0.0                2.26015e-316  NaN           \n",
       " 0.0             0.0           …    5.77672e-316    3.57479e-316\n",
       " 1.18832e-312    6.925e-310         5.78791e-316  NaN           \n",
       " 6.52177e-315    0.0              NaN               0.0         \n",
       " 6.95292e-310    0.0                5.35759e-316    2.61247e-316\n",
       " 6.92543e-310  NaN                  2.81354e-316    2.61247e-316\n",
       " 1.4822e-323     3.43823e-318  …    2.81355e-316  NaN           \n",
       " 6.925e-310      5.88925e-316     NaN               3.51658e-316\n",
       " 6.925e-310      5.3921e-316        5.38207e-316    2.6626e-316 \n",
       " ⋮                             ⋱                                \n",
       " 6.95292e-310    0.0           …  NaN               2.71266e-316\n",
       " 0.0             0.0                5.37629e-316    2.36084e-316\n",
       " 0.0             1.33686e-312     NaN               2.36085e-316\n",
       " 6.95292e-310    3.27416e-316       0.0           NaN           \n",
       " 0.0             0.0              NaN               0.0         \n",
       " 0.0             1.60028e-320  …    4.35656e-316  NaN           \n",
       " 0.0             2.73946e-316       2.56233e-316    5.32491e-316\n",
       " 0.0             2.73947e-316       2.56234e-316    2.31071e-316\n",
       " 0.0             2.73947e-316     NaN               2.31072e-316\n",
       " 0.0            -3.10152e-12        4.30933e-316  NaN           \n",
       " 0.0             1.00109e-309  …  NaN               0.0         \n",
       " 0.0            -1.47028e82         3.49634e-316  NaN           "
      ]
     },
     "execution_count": 17,
     "metadata": {},
     "output_type": "execute_result"
    }
   ],
   "source": [
    "c = count(Ndata_watts[:ClustC],Rel_Den)"
   ]
  },
  {
   "cell_type": "code",
   "execution_count": 19,
   "metadata": {
    "collapsed": false
   },
   "outputs": [
    {
     "ename": "LoadError",
     "evalue": "LoadError: PyError (:PyObject_Call) <type 'exceptions.ValueError'>\nValueError('shape mismatch: two or more arrays have incompatible dimensions on axis 0.',)\n  File \"/usr/lib/pymodules/python2.7/mpl_toolkits/mplot3d/axes3d.py\", line 1553, in plot_surface\n    X, Y, Z = np.broadcast_arrays(X, Y, Z)\n  File \"/usr/lib/python2.7/dist-packages/numpy/lib/stride_tricks.py\", line 100, in broadcast_arrays\n    \"incompatible dimensions on axis %r.\" % (axis,))\n\nwhile loading In[19], in expression starting on line 4",
     "output_type": "error",
     "traceback": [
      "LoadError: PyError (:PyObject_Call) <type 'exceptions.ValueError'>\nValueError('shape mismatch: two or more arrays have incompatible dimensions on axis 0.',)\n  File \"/usr/lib/pymodules/python2.7/mpl_toolkits/mplot3d/axes3d.py\", line 1553, in plot_surface\n    X, Y, Z = np.broadcast_arrays(X, Y, Z)\n  File \"/usr/lib/python2.7/dist-packages/numpy/lib/stride_tricks.py\", line 100, in broadcast_arrays\n    \"incompatible dimensions on axis %r.\" % (axis,))\n\nwhile loading In[19], in expression starting on line 4",
      "",
      " in pyerr_check at /home/rpm/.julia/v0.5/PyCall/src/exception.jl:56 [inlined]",
      " in pyerr_check at /home/rpm/.julia/v0.5/PyCall/src/exception.jl:61 [inlined]",
      " in macro expansion at /home/rpm/.julia/v0.5/PyCall/src/exception.jl:81 [inlined]",
      " in #_pycall#66(::Array{Any,1}, ::Function, ::PyCall.PyObject, ::Array{Float64,2}, ::Vararg{Array{Float64,2},N}) at /home/rpm/.julia/v0.5/PyCall/src/PyCall.jl:555",
      " in (::PyCall.#kw##_pycall)(::Array{Any,1}, ::PyCall.#_pycall, ::PyCall.PyObject, ::Array{Float64,2}, ::Vararg{Array{Float64,2},N}) at ./<missing>:0",
      " in #pycall#70(::Array{Any,1}, ::Function, ::PyCall.PyObject, ::Type{PyCall.PyAny}, ::Array{Float64,2}, ::Vararg{Array{Float64,2},N}) at /home/rpm/.julia/v0.5/PyCall/src/PyCall.jl:572",
      " in (::PyCall.#kw##pycall)(::Array{Any,1}, ::PyCall.#pycall, ::PyCall.PyObject, ::Type{PyCall.PyAny}, ::Array{Float64,2}, ::Vararg{Array{Float64,2},N}) at ./<missing>:0",
      " in #plot_surface#169(::Array{Any,1}, ::Function, ::Array{Float64,2}, ::Vararg{Array{Float64,2},N}) at /home/rpm/.julia/v0.5/PyPlot/src/PyPlot.jl:233",
      " in (::PyPlot.#kw##plot_surface)(::Array{Any,1}, ::PyPlot.#plot_surface, ::Array{Float64,2}, ::Array{Float64,2}, ::Array{Float64,2}) at ./<missing>:0",
      " in #surf#181(::Array{Any,1}, ::Function, ::Array{Float64,2}, ::Array{Float64,2}, ::Array{Float64,2}) at /home/rpm/.julia/v0.5/PyPlot/src/PyPlot.jl:261",
      " in (::PyPlot.#kw##surf)(::Array{Any,1}, ::PyPlot.#surf, ::Array{Float64,2}, ::Array{Float64,2}, ::Array{Float64,2}) at ./<missing>:0",
      " in #surf#187(::Array{Any,1}, ::Function, ::FloatRange{Float64}, ::FloatRange{Float64}, ::Array{Float64,2}) at /home/rpm/.julia/v0.5/PyPlot/src/PyPlot.jl:297",
      " in (::PyPlot.#kw##surf)(::Array{Any,1}, ::PyPlot.#surf, ::FloatRange{Float64}, ::FloatRange{Float64}, ::Array{Float64,2}) at ./<missing>:0"
     ]
    }
   ],
   "source": [
    "x = minx:0.001:maxx\n",
    "y = miny:0.001:maxy\n",
    "Z = c\n",
    "surf(x,y,Z, facecolors=get_cmap(\"seismic\").o(c/maximum(c)), linewidth=2)\n",
    "title(\"My cool 3D plot\")\n",
    "\n",
    "savefig(\"Plots/$run_Densities.svg\")"
   ]
  }
 ],
 "metadata": {
  "kernelspec": {
   "display_name": "Julia 0.5.0",
   "language": "julia",
   "name": "julia-0.5"
  },
  "language_info": {
   "file_extension": ".jl",
   "mimetype": "application/julia",
   "name": "julia",
   "version": "0.5.0"
  }
 },
 "nbformat": 4,
 "nbformat_minor": 1
}
