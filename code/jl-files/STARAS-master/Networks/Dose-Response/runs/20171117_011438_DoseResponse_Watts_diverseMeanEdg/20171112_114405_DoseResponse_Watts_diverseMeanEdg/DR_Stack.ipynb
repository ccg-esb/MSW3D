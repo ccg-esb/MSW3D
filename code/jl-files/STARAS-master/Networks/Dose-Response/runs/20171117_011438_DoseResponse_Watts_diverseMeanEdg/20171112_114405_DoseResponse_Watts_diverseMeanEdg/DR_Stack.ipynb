{
 "cells": [
  {
   "cell_type": "markdown",
   "metadata": {},
   "source": [
    "## Dose-Response Plotter"
   ]
  },
  {
   "cell_type": "code",
   "execution_count": 1,
   "metadata": {
    "collapsed": true
   },
   "outputs": [],
   "source": [
    "CC=0.1"
   ]
  },
  {
   "cell_type": "markdown",
   "metadata": {},
   "source": [
    "We call the libraries and the data from the experiment"
   ]
  },
  {
   "cell_type": "code",
   "execution_count": 2,
   "metadata": {
    "collapsed": false
   },
   "outputs": [],
   "source": [
    "import numpy as np\n",
    "import matplotlib.pyplot as plt\n",
    "import pandas as pd\n",
    "import statsmodels.api as sm\n",
    "import os\n",
    "\n",
    "if not os.path.exists(\"Figures\"):\n",
    "    os.makedirs(\"Figures\")"
   ]
  },
  {
   "cell_type": "code",
   "execution_count": 3,
   "metadata": {
    "collapsed": false
   },
   "outputs": [],
   "source": [
    "def load_data(filedir):\n",
    "    \n",
    "    mydata = np.genfromtxt(filedir,delimiter=\"\\t\")\n",
    "    TotalDensity = [i[0] for i in mydata] #Total bacterial density\n",
    "    Suc = [i[1] for i in mydata] #Susceptible strain total density\n",
    "    Res = [i[2] for i in mydata] #Resistant strain total density\n",
    "    Rel_Freq = [i[2]/(i[1]+i[2]) for i in mydata] #Resistant Relative Frequency\n",
    "    Suc_win = [i[3] for i in mydata] #Number of wins of Susceptible strain\n",
    "    Res_win = [i[4] for i in mydata] #Number of wins of Resistant strain\n",
    "    R_S_winratio = [i[4]/(i[3]+i[4]) for i in mydata]#node-to-node Resistant WinRatio\n",
    "    Netdensity = [i[6] for i in mydata] #Network density\n",
    "    clustc = [i[7] for i in mydata] #Network clustering coefficient\n",
    "    clo_centr = [i[8] for i in mydata] #Closeness centrality\n",
    "    ant_deg = [i[9] for i in mydata] #Antibiotic source connectivity\n",
    "    bet_centr = [i[10] for i in mydata] #Betweeness centrality\n",
    "    ant_con = [i[11] for i in mydata]\n",
    "    ME = [i[12] for i in mydata]\n",
    "    \n",
    "    d = {'TotDen':TotalDensity,'SucDen':Suc,'ResDen':Res,'Rel_Freq':Rel_Freq,\n",
    "           'SucWin':Suc_win, 'ResWin':Res_win, 'R_S_winratio':R_S_winratio,\n",
    "           'NetDen':Netdensity,'ClustC':clustc,'CloCentr':clo_centr,'AntDeg':ant_deg,\n",
    "           'BetCentr':bet_centr,'AntCon':ant_con,'ME':ME}\n",
    "    return pd.DataFrame(d)"
   ]
  },
  {
   "cell_type": "code",
   "execution_count": 4,
   "metadata": {
    "collapsed": false
   },
   "outputs": [],
   "source": [
    "NamesDict = {'TotDen':'Total Bacterial Density','SucDen': 'Susceptible Bacteria Density',\n",
    "             'ResDen': 'Resistant Bacteria Density','Rel_Freq': 'Resistant Relative Frequency',\n",
    "       'SucWin': 'Susceptible D-Score', 'ResWin':'Resistant D-Score', 'R_S_winratio':'Ratio of winners R/S',\n",
    "       'NetDen':'Network Density','ClustC':'Global Clustering Coefficient','CloCentr':'Closeness Centrality',\n",
    "        'ant_deg':'Connectivity of Antibiotic Source',\n",
    "       'BetCentr':'Betweenness Centrality','AntCon':'Antibiotic Concentration'}"
   ]
  },
  {
   "cell_type": "code",
   "execution_count": 5,
   "metadata": {
    "collapsed": false
   },
   "outputs": [
    {
     "ename": "OSError",
     "evalue": "DR_N_50_meanedg_0_watts_out not found.",
     "output_type": "error",
     "traceback": [
      "\u001b[0;31m---------------------------------------------------------------------------\u001b[0m",
      "\u001b[0;31mOSError\u001b[0m                                   Traceback (most recent call last)",
      "\u001b[0;32m<ipython-input-5-66dec855b30e>\u001b[0m in \u001b[0;36m<module>\u001b[0;34m()\u001b[0m\n\u001b[1;32m      1\u001b[0m \u001b[0msim_size\u001b[0m\u001b[0;34m=\u001b[0m\u001b[0;36m6\u001b[0m\u001b[0;34m\u001b[0m\u001b[0m\n\u001b[0;32m----> 2\u001b[0;31m \u001b[0mdf_vec\u001b[0m \u001b[0;34m=\u001b[0m \u001b[0;34m[\u001b[0m\u001b[0mload_data\u001b[0m\u001b[0;34m(\u001b[0m\u001b[0;34m\"DR_N_50_meanedg_\"\u001b[0m\u001b[0;34m+\u001b[0m\u001b[0mstr\u001b[0m\u001b[0;34m(\u001b[0m\u001b[0mi\u001b[0m\u001b[0;34m)\u001b[0m\u001b[0;34m+\u001b[0m\u001b[0;34m\"_watts_out\"\u001b[0m\u001b[0;34m)\u001b[0m \u001b[0;32mfor\u001b[0m \u001b[0mi\u001b[0m \u001b[0;32min\u001b[0m \u001b[0mrange\u001b[0m\u001b[0;34m(\u001b[0m\u001b[0msim_size\u001b[0m\u001b[0;34m)\u001b[0m\u001b[0;34m]\u001b[0m\u001b[0;34m\u001b[0m\u001b[0m\n\u001b[0m",
      "\u001b[0;32m<ipython-input-5-66dec855b30e>\u001b[0m in \u001b[0;36m<listcomp>\u001b[0;34m(.0)\u001b[0m\n\u001b[1;32m      1\u001b[0m \u001b[0msim_size\u001b[0m\u001b[0;34m=\u001b[0m\u001b[0;36m6\u001b[0m\u001b[0;34m\u001b[0m\u001b[0m\n\u001b[0;32m----> 2\u001b[0;31m \u001b[0mdf_vec\u001b[0m \u001b[0;34m=\u001b[0m \u001b[0;34m[\u001b[0m\u001b[0mload_data\u001b[0m\u001b[0;34m(\u001b[0m\u001b[0;34m\"DR_N_50_meanedg_\"\u001b[0m\u001b[0;34m+\u001b[0m\u001b[0mstr\u001b[0m\u001b[0;34m(\u001b[0m\u001b[0mi\u001b[0m\u001b[0;34m)\u001b[0m\u001b[0;34m+\u001b[0m\u001b[0;34m\"_watts_out\"\u001b[0m\u001b[0;34m)\u001b[0m \u001b[0;32mfor\u001b[0m \u001b[0mi\u001b[0m \u001b[0;32min\u001b[0m \u001b[0mrange\u001b[0m\u001b[0;34m(\u001b[0m\u001b[0msim_size\u001b[0m\u001b[0;34m)\u001b[0m\u001b[0;34m]\u001b[0m\u001b[0;34m\u001b[0m\u001b[0m\n\u001b[0m",
      "\u001b[0;32m<ipython-input-3-83cd05a813d0>\u001b[0m in \u001b[0;36mload_data\u001b[0;34m(filedir)\u001b[0m\n\u001b[1;32m      1\u001b[0m \u001b[0;32mdef\u001b[0m \u001b[0mload_data\u001b[0m\u001b[0;34m(\u001b[0m\u001b[0mfiledir\u001b[0m\u001b[0;34m)\u001b[0m\u001b[0;34m:\u001b[0m\u001b[0;34m\u001b[0m\u001b[0m\n\u001b[1;32m      2\u001b[0m \u001b[0;34m\u001b[0m\u001b[0m\n\u001b[0;32m----> 3\u001b[0;31m     \u001b[0mmydata\u001b[0m \u001b[0;34m=\u001b[0m \u001b[0mnp\u001b[0m\u001b[0;34m.\u001b[0m\u001b[0mgenfromtxt\u001b[0m\u001b[0;34m(\u001b[0m\u001b[0mfiledir\u001b[0m\u001b[0;34m,\u001b[0m\u001b[0mdelimiter\u001b[0m\u001b[0;34m=\u001b[0m\u001b[0;34m\"\\t\"\u001b[0m\u001b[0;34m)\u001b[0m\u001b[0;34m\u001b[0m\u001b[0m\n\u001b[0m\u001b[1;32m      4\u001b[0m     \u001b[0mTotalDensity\u001b[0m \u001b[0;34m=\u001b[0m \u001b[0;34m[\u001b[0m\u001b[0mi\u001b[0m\u001b[0;34m[\u001b[0m\u001b[0;36m0\u001b[0m\u001b[0;34m]\u001b[0m \u001b[0;32mfor\u001b[0m \u001b[0mi\u001b[0m \u001b[0;32min\u001b[0m \u001b[0mmydata\u001b[0m\u001b[0;34m]\u001b[0m \u001b[0;31m#Total bacterial density\u001b[0m\u001b[0;34m\u001b[0m\u001b[0m\n\u001b[1;32m      5\u001b[0m     \u001b[0mSuc\u001b[0m \u001b[0;34m=\u001b[0m \u001b[0;34m[\u001b[0m\u001b[0mi\u001b[0m\u001b[0;34m[\u001b[0m\u001b[0;36m1\u001b[0m\u001b[0;34m]\u001b[0m \u001b[0;32mfor\u001b[0m \u001b[0mi\u001b[0m \u001b[0;32min\u001b[0m \u001b[0mmydata\u001b[0m\u001b[0;34m]\u001b[0m \u001b[0;31m#Susceptible strain total density\u001b[0m\u001b[0;34m\u001b[0m\u001b[0m\n",
      "\u001b[0;32m/usr/local/lib/python3.4/dist-packages/numpy/lib/npyio.py\u001b[0m in \u001b[0;36mgenfromtxt\u001b[0;34m(fname, dtype, comments, delimiter, skip_header, skip_footer, converters, missing_values, filling_values, usecols, names, excludelist, deletechars, replace_space, autostrip, case_sensitive, defaultfmt, unpack, usemask, loose, invalid_raise, max_rows)\u001b[0m\n\u001b[1;32m   1549\u001b[0m                 \u001b[0mfhd\u001b[0m \u001b[0;34m=\u001b[0m \u001b[0miter\u001b[0m\u001b[0;34m(\u001b[0m\u001b[0mnp\u001b[0m\u001b[0;34m.\u001b[0m\u001b[0mlib\u001b[0m\u001b[0;34m.\u001b[0m\u001b[0m_datasource\u001b[0m\u001b[0;34m.\u001b[0m\u001b[0mopen\u001b[0m\u001b[0;34m(\u001b[0m\u001b[0mfname\u001b[0m\u001b[0;34m,\u001b[0m \u001b[0;34m'rbU'\u001b[0m\u001b[0;34m)\u001b[0m\u001b[0;34m)\u001b[0m\u001b[0;34m\u001b[0m\u001b[0m\n\u001b[1;32m   1550\u001b[0m             \u001b[0;32melse\u001b[0m\u001b[0;34m:\u001b[0m\u001b[0;34m\u001b[0m\u001b[0m\n\u001b[0;32m-> 1551\u001b[0;31m                 \u001b[0mfhd\u001b[0m \u001b[0;34m=\u001b[0m \u001b[0miter\u001b[0m\u001b[0;34m(\u001b[0m\u001b[0mnp\u001b[0m\u001b[0;34m.\u001b[0m\u001b[0mlib\u001b[0m\u001b[0;34m.\u001b[0m\u001b[0m_datasource\u001b[0m\u001b[0;34m.\u001b[0m\u001b[0mopen\u001b[0m\u001b[0;34m(\u001b[0m\u001b[0mfname\u001b[0m\u001b[0;34m,\u001b[0m \u001b[0;34m'rb'\u001b[0m\u001b[0;34m)\u001b[0m\u001b[0;34m)\u001b[0m\u001b[0;34m\u001b[0m\u001b[0m\n\u001b[0m\u001b[1;32m   1552\u001b[0m             \u001b[0mown_fhd\u001b[0m \u001b[0;34m=\u001b[0m \u001b[0;32mTrue\u001b[0m\u001b[0;34m\u001b[0m\u001b[0m\n\u001b[1;32m   1553\u001b[0m         \u001b[0;32melse\u001b[0m\u001b[0;34m:\u001b[0m\u001b[0;34m\u001b[0m\u001b[0m\n",
      "\u001b[0;32m/usr/local/lib/python3.4/dist-packages/numpy/lib/_datasource.py\u001b[0m in \u001b[0;36mopen\u001b[0;34m(path, mode, destpath)\u001b[0m\n\u001b[1;32m    149\u001b[0m \u001b[0;34m\u001b[0m\u001b[0m\n\u001b[1;32m    150\u001b[0m     \u001b[0mds\u001b[0m \u001b[0;34m=\u001b[0m \u001b[0mDataSource\u001b[0m\u001b[0;34m(\u001b[0m\u001b[0mdestpath\u001b[0m\u001b[0;34m)\u001b[0m\u001b[0;34m\u001b[0m\u001b[0m\n\u001b[0;32m--> 151\u001b[0;31m     \u001b[0;32mreturn\u001b[0m \u001b[0mds\u001b[0m\u001b[0;34m.\u001b[0m\u001b[0mopen\u001b[0m\u001b[0;34m(\u001b[0m\u001b[0mpath\u001b[0m\u001b[0;34m,\u001b[0m \u001b[0mmode\u001b[0m\u001b[0;34m)\u001b[0m\u001b[0;34m\u001b[0m\u001b[0m\n\u001b[0m\u001b[1;32m    152\u001b[0m \u001b[0;34m\u001b[0m\u001b[0m\n\u001b[1;32m    153\u001b[0m \u001b[0;34m\u001b[0m\u001b[0m\n",
      "\u001b[0;32m/usr/local/lib/python3.4/dist-packages/numpy/lib/_datasource.py\u001b[0m in \u001b[0;36mopen\u001b[0;34m(self, path, mode)\u001b[0m\n\u001b[1;32m    499\u001b[0m             \u001b[0;32mreturn\u001b[0m \u001b[0m_file_openers\u001b[0m\u001b[0;34m[\u001b[0m\u001b[0mext\u001b[0m\u001b[0;34m]\u001b[0m\u001b[0;34m(\u001b[0m\u001b[0mfound\u001b[0m\u001b[0;34m,\u001b[0m \u001b[0mmode\u001b[0m\u001b[0;34m=\u001b[0m\u001b[0mmode\u001b[0m\u001b[0;34m)\u001b[0m\u001b[0;34m\u001b[0m\u001b[0m\n\u001b[1;32m    500\u001b[0m         \u001b[0;32melse\u001b[0m\u001b[0;34m:\u001b[0m\u001b[0;34m\u001b[0m\u001b[0m\n\u001b[0;32m--> 501\u001b[0;31m             \u001b[0;32mraise\u001b[0m \u001b[0mIOError\u001b[0m\u001b[0;34m(\u001b[0m\u001b[0;34m\"%s not found.\"\u001b[0m \u001b[0;34m%\u001b[0m \u001b[0mpath\u001b[0m\u001b[0;34m)\u001b[0m\u001b[0;34m\u001b[0m\u001b[0m\n\u001b[0m\u001b[1;32m    502\u001b[0m \u001b[0;34m\u001b[0m\u001b[0m\n\u001b[1;32m    503\u001b[0m \u001b[0;34m\u001b[0m\u001b[0m\n",
      "\u001b[0;31mOSError\u001b[0m: DR_N_50_meanedg_0_watts_out not found."
     ]
    }
   ],
   "source": [
    "sim_size=6\n",
    "df_vec = [load_data(\"DR_N_50_meanedg_\"+str(i)+\"_watts_out\") for i in range(sim_size)]"
   ]
  },
  {
   "cell_type": "markdown",
   "metadata": {},
   "source": [
    "We generate the function for plotting many comparisons"
   ]
  },
  {
   "cell_type": "code",
   "execution_count": null,
   "metadata": {
    "collapsed": false
   },
   "outputs": [],
   "source": [
    "def plot_Dose_on_col(column,loc='best'):\n",
    "    mean_matrix = [df_vec[i].groupby(['AntCon'], as_index=False).mean() for i in range(sim_size)]\n",
    "    stderr_matrix = [df_vec[i].groupby(['AntCon'], as_index=False).std() for i in range(sim_size)]\n",
    "    Ant_Con = mean_matrix[0]['AntCon']##########################################\n",
    "    for i in range(sim_size):\n",
    "        plt.plot(Ant_Con, mean_matrix[i][column])\n",
    "        plt.fill_between(Ant_Con, mean_matrix[i][column]-stderr_matrix[i][column], mean_matrix[i][column]+stderr_matrix[i][column], alpha=0.5)\n",
    "    \n",
    "    plt.title(\"Dose effect on \"+NamesDict[column]+\" when increasing Mean Edges\",y=1.08)\n",
    "    plt.legend([str(i*2) for i in range(sim_size)],loc=loc,title=\"Mean Edges\")\n",
    "    plt.ylabel(NamesDict[column])\n",
    "    plt.xlabel(NamesDict['AntCon'])\n",
    "    \n",
    "    plt.show()"
   ]
  },
  {
   "cell_type": "code",
   "execution_count": null,
   "metadata": {
    "collapsed": false
   },
   "outputs": [],
   "source": [
    "plot_Dose_on_col('Rel_Freq')"
   ]
  },
  {
   "cell_type": "code",
   "execution_count": null,
   "metadata": {
    "collapsed": false
   },
   "outputs": [],
   "source": [
    "plot_Dose_on_col('TotDen')"
   ]
  },
  {
   "cell_type": "code",
   "execution_count": null,
   "metadata": {
    "collapsed": false
   },
   "outputs": [],
   "source": [
    "plot_Dose_on_col('ResWin')"
   ]
  },
  {
   "cell_type": "code",
   "execution_count": null,
   "metadata": {
    "collapsed": false
   },
   "outputs": [],
   "source": [
    "plot_Dose_on_col('SucWin',loc='lower right')"
   ]
  },
  {
   "cell_type": "markdown",
   "metadata": {},
   "source": [
    "## Analysis of Relative Frequency AND Density"
   ]
  },
  {
   "cell_type": "code",
   "execution_count": null,
   "metadata": {
    "collapsed": false
   },
   "outputs": [],
   "source": [
    "fontsize=15\n",
    "sim_size = 6\n",
    "f, ax_vec = plt.subplots(sim_size, sharex=True, sharey=False, figsize=(10,10))\n",
    "\n",
    "mean_matrix = [df_vec[i].groupby(['AntCon'], as_index=False).mean() for i in range(sim_size)]\n",
    "\n",
    "for i in range(sim_size):\n",
    "    ax = ax_vec[i]\n",
    "    ax.stackplot(range(len(mean_matrix[i])),mean_matrix[i].ResDen,mean_matrix[i].SucDen,colors=['red','blue'])\n",
    "    \n",
    "\n",
    "    ax.annotate(r'$M=%d$' % ((i+1)*2), xy=(1.03,0.5), rotation=90,\n",
    "                        ha='center',va='center',xycoords='axes fraction', fontsize=fontsize)\n",
    "    if i==0:\n",
    "        ax.set_title('Dose-Response when increasing network connectivity (avg)',y=1.15,fontsize=fontsize)\n",
    "    else:\n",
    "        ax.yaxis.get_offset_text().set_visible(False)\n",
    "        if i==sim_size-1:\n",
    "            ax.legend(['Resistant','Susceptible'])\n",
    "    \n",
    "f.subplots_adjust(wspace=0,hspace=0)\n",
    "plt.xlabel(\"Antibiotic Concentration\",fontsize=fontsize)\n",
    "f.text(0.05, 0.5, 'Bacterial Population Density', va='center', rotation='vertical',fontsize = fontsize)\n",
    "\n",
    "plt.savefig(\"Figures/DR_varME_2to8_CC+\"+str(CC)+\".png\")\n",
    "plt.show()"
   ]
  },
  {
   "cell_type": "code",
   "execution_count": null,
   "metadata": {
    "collapsed": false
   },
   "outputs": [],
   "source": [
    "def get_DScore_ICs(mean_matrix,column,percentage):\n",
    "    if column=='ResWin':\n",
    "        maxVal = np.max(mean_matrix[0][column]+mean_matrix[0]['SucWin'])\n",
    "        return[mean_matrix[i][(mean_matrix[i][column]+mean_matrix[i]['SucWin'] < maxVal*percentage/100)].iloc[0].AntCon.round(1) for i in range(2,sim_size)] #Omiting the first cases when the IC won't exist. \n",
    "\n",
    "    else:\n",
    "        maxVal = np.max([mean_matrix[0][column] for i in range(sim_size)])\n",
    "    return[mean_matrix[i][(mean_matrix[i][column] < maxVal*percentage/100)].iloc[0].AntCon.round(1) for i in range(1,sim_size)] #Omiting the first cases when the IC won't exist. \n",
    "    "
   ]
  },
  {
   "cell_type": "code",
   "execution_count": null,
   "metadata": {
    "collapsed": false
   },
   "outputs": [],
   "source": [
    "get_DScore_ICs(mean_matrix,'TotDen',75)"
   ]
  },
  {
   "cell_type": "code",
   "execution_count": null,
   "metadata": {
    "collapsed": false
   },
   "outputs": [],
   "source": []
  },
  {
   "cell_type": "code",
   "execution_count": null,
   "metadata": {
    "collapsed": false
   },
   "outputs": [],
   "source": [
    "notplotted=2\n",
    "ICs = range(10,90)\n",
    "ICCons = [get_DScore_ICs(mean_matrix,'ResWin',i) for i in ICs]\n",
    "\n",
    "final_sim_size = sim_size-notplotted\n",
    "for i in range(final_sim_size):\n",
    "    plt.plot(ICs,ICCons)\n",
    "plt.legend([str((i+notplotted)*2) for i in range(final_sim_size)],title=\"ME\")\n",
    "plt.show()"
   ]
  },
  {
   "cell_type": "code",
   "execution_count": null,
   "metadata": {
    "collapsed": false
   },
   "outputs": [],
   "source": [
    "fontsize=15\n",
    "sim_size = 5\n",
    "\n",
    "f, ax_vec = plt.subplots(sim_size, sharex=True, sharey=False, figsize=(10,10))\n",
    "\n",
    "mean_matrix = [df_vec[i].groupby(['AntCon'], as_index=False).mean() for i in range(sim_size)]\n",
    "\n",
    "DScore_IC50 = [mean_matrix[i].TotDen for i in range(len(mean_matrix[i]))]\n",
    "\n",
    "for i in range(sim_size):\n",
    "    ax = ax_vec[i]\n",
    "    ax.stackplot(range(len(mean_matrix[i])),mean_matrix[i].ResWin,mean_matrix[i].SucWin,colors=['red','blue'])\n",
    "    \n",
    "\n",
    "    ax.annotate(r'$M=%d$' % ((i+1)*2), xy=(1.03,0.5), rotation=90,\n",
    "                        ha='center',va='center',xycoords='axes fraction', fontsize=fontsize)\n",
    "    if i==0:\n",
    "        ax.set_title('Dose-Response when increasing network connectivity (means)',y=1.15,fontsize=fontsize)\n",
    "    else:\n",
    "        ax.yaxis.get_offset_text().set_visible(False)\n",
    "        if i==sim_size-2:\n",
    "            ax.legend(['Resistant','Susceptible'])\n",
    "    \n",
    "f.subplots_adjust(wspace=0,hspace=0)\n",
    "plt.xlabel(\"Antibiotic Concentration\",fontsize=fontsize)\n",
    "f.text(0.05, 0.5, 'Bacterial Population Density', va='center', rotation='vertical',fontsize = fontsize)\n",
    "\n",
    "plt.savefig(\"Figures/DR_varME_2to8_CC+\"+str(CC)+\".png\")\n",
    "plt.show()"
   ]
  }
 ],
 "metadata": {
  "kernelspec": {
   "display_name": "Python 3",
   "language": "python",
   "name": "python3"
  },
  "language_info": {
   "codemirror_mode": {
    "name": "ipython",
    "version": 3
   },
   "file_extension": ".py",
   "mimetype": "text/x-python",
   "name": "python",
   "nbconvert_exporter": "python",
   "pygments_lexer": "ipython3",
   "version": "3.4.3"
  }
 },
 "nbformat": 4,
 "nbformat_minor": 1
}
