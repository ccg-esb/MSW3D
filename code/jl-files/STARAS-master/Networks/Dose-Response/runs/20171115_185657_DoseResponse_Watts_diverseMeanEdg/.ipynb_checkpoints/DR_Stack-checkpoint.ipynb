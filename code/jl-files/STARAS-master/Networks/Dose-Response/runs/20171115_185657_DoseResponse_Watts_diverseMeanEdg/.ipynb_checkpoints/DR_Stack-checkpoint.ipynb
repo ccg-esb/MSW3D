{
 "cells": [
  {
   "cell_type": "markdown",
   "metadata": {},
   "source": [
    "## Dose-Response Plotter"
   ]
  },
  {
   "cell_type": "code",
   "execution_count": 8,
   "metadata": {
    "collapsed": true
   },
   "outputs": [],
   "source": [
    "CC=0.1"
   ]
  },
  {
   "cell_type": "markdown",
   "metadata": {},
   "source": [
    "We call the libraries and the data from the experiment"
   ]
  },
  {
   "cell_type": "code",
   "execution_count": 9,
   "metadata": {
    "collapsed": false
   },
   "outputs": [],
   "source": [
    "import numpy as np\n",
    "import matplotlib.pyplot as plt\n",
    "import pandas as pd\n",
    "import statsmodels.api as sm\n",
    "import os\n",
    "\n",
    "if not os.path.exists(\"Figures\"):\n",
    "    os.makedirs(\"Figures\")"
   ]
  },
  {
   "cell_type": "code",
   "execution_count": 10,
   "metadata": {
    "collapsed": false
   },
   "outputs": [],
   "source": [
    "def load_data(filedir):\n",
    "    \n",
    "    mydata = np.genfromtxt(filedir,delimiter=\"\\t\")\n",
    "    TotalDensity = [i[0] for i in mydata] #Total bacterial density\n",
    "    Suc = [i[1] for i in mydata] #Susceptible strain total density\n",
    "    Res = [i[2] for i in mydata] #Resistant strain total density\n",
    "    Rel_Freq = [i[2]/(i[1]+i[2]) for i in mydata] #Resistant Relative Frequency\n",
    "    Suc_win = [i[3] for i in mydata] #Number of wins of Susceptible strain\n",
    "    Res_win = [i[4] for i in mydata] #Number of wins of Resistant strain\n",
    "    R_S_winratio = [i[4]/(i[3]+i[4]) for i in mydata]#node-to-node Resistant WinRatio\n",
    "    Netdensity = [i[6] for i in mydata] #Network density\n",
    "    clustc = [i[7] for i in mydata] #Network clustering coefficient\n",
    "    clo_centr = [i[8] for i in mydata] #Closeness centrality\n",
    "    ant_deg = [i[9] for i in mydata] #Antibiotic source connectivity\n",
    "    bet_centr = [i[10] for i in mydata] #Betweeness centrality\n",
    "    ant_con = [i[11] for i in mydata]\n",
    "    ME = [i[12] for i in mydata]\n",
    "    \n",
    "    d = {'TotDen':TotalDensity,'SucDen':Suc,'ResDen':Res,'Rel_Freq':Rel_Freq,\n",
    "           'SucWin':Suc_win, 'ResWin':Res_win, 'R_S_winratio':R_S_winratio,\n",
    "           'NetDen':Netdensity,'ClustC':clustc,'CloCentr':clo_centr,'AntDeg':ant_deg,\n",
    "           'BetCentr':bet_centr,'AntCon':ant_con,'ME':ME}\n",
    "    return pd.DataFrame(d)"
   ]
  },
  {
   "cell_type": "code",
   "execution_count": 11,
   "metadata": {
    "collapsed": false
   },
   "outputs": [],
   "source": [
    "NamesDict = {'TotDen':'Total Bacterial Density','SucDen': 'Susceptible Bacteria Density',\n",
    "             'ResDen': 'Resistant Bacteria Density','Rel_Freq': 'Resistant Relative Frequency',\n",
    "       'SucWin': 'Susceptible Node Winners', 'ResWin':'Resistant Node Winners', 'R_S_winratio':'Ratio of winners R/S',\n",
    "       'NetDen':'Network Density','ClustC':'Global Clustering Coefficient','CloCentr':'Closeness Centrality',\n",
    "        'ant_deg':'Connectivity of Antibiotic Source',\n",
    "       'BetCentr':'Betweenness Centrality'}"
   ]
  },
  {
   "cell_type": "code",
   "execution_count": 12,
   "metadata": {
    "collapsed": false
   },
   "outputs": [
    {
     "ename": "IndexError",
     "evalue": "invalid index to scalar variable.",
     "output_type": "error",
     "traceback": [
      "\u001b[0;31m---------------------------------------------------------------------------\u001b[0m",
      "\u001b[0;31mIndexError\u001b[0m                                Traceback (most recent call last)",
      "\u001b[0;32m<ipython-input-12-66dec855b30e>\u001b[0m in \u001b[0;36m<module>\u001b[0;34m()\u001b[0m\n\u001b[1;32m      1\u001b[0m \u001b[0msim_size\u001b[0m\u001b[0;34m=\u001b[0m\u001b[0;36m6\u001b[0m\u001b[0;34m\u001b[0m\u001b[0m\n\u001b[0;32m----> 2\u001b[0;31m \u001b[0mdf_vec\u001b[0m \u001b[0;34m=\u001b[0m \u001b[0;34m[\u001b[0m\u001b[0mload_data\u001b[0m\u001b[0;34m(\u001b[0m\u001b[0;34m\"DR_N_50_meanedg_\"\u001b[0m\u001b[0;34m+\u001b[0m\u001b[0mstr\u001b[0m\u001b[0;34m(\u001b[0m\u001b[0mi\u001b[0m\u001b[0;34m)\u001b[0m\u001b[0;34m+\u001b[0m\u001b[0;34m\"_watts_out\"\u001b[0m\u001b[0;34m)\u001b[0m \u001b[0;32mfor\u001b[0m \u001b[0mi\u001b[0m \u001b[0;32min\u001b[0m \u001b[0mrange\u001b[0m\u001b[0;34m(\u001b[0m\u001b[0msim_size\u001b[0m\u001b[0;34m)\u001b[0m\u001b[0;34m]\u001b[0m\u001b[0;34m\u001b[0m\u001b[0m\n\u001b[0m",
      "\u001b[0;32m<ipython-input-12-66dec855b30e>\u001b[0m in \u001b[0;36m<listcomp>\u001b[0;34m(.0)\u001b[0m\n\u001b[1;32m      1\u001b[0m \u001b[0msim_size\u001b[0m\u001b[0;34m=\u001b[0m\u001b[0;36m6\u001b[0m\u001b[0;34m\u001b[0m\u001b[0m\n\u001b[0;32m----> 2\u001b[0;31m \u001b[0mdf_vec\u001b[0m \u001b[0;34m=\u001b[0m \u001b[0;34m[\u001b[0m\u001b[0mload_data\u001b[0m\u001b[0;34m(\u001b[0m\u001b[0;34m\"DR_N_50_meanedg_\"\u001b[0m\u001b[0;34m+\u001b[0m\u001b[0mstr\u001b[0m\u001b[0;34m(\u001b[0m\u001b[0mi\u001b[0m\u001b[0;34m)\u001b[0m\u001b[0;34m+\u001b[0m\u001b[0;34m\"_watts_out\"\u001b[0m\u001b[0;34m)\u001b[0m \u001b[0;32mfor\u001b[0m \u001b[0mi\u001b[0m \u001b[0;32min\u001b[0m \u001b[0mrange\u001b[0m\u001b[0;34m(\u001b[0m\u001b[0msim_size\u001b[0m\u001b[0;34m)\u001b[0m\u001b[0;34m]\u001b[0m\u001b[0;34m\u001b[0m\u001b[0m\n\u001b[0m",
      "\u001b[0;32m<ipython-input-10-83cd05a813d0>\u001b[0m in \u001b[0;36mload_data\u001b[0;34m(filedir)\u001b[0m\n\u001b[1;32m      2\u001b[0m \u001b[0;34m\u001b[0m\u001b[0m\n\u001b[1;32m      3\u001b[0m     \u001b[0mmydata\u001b[0m \u001b[0;34m=\u001b[0m \u001b[0mnp\u001b[0m\u001b[0;34m.\u001b[0m\u001b[0mgenfromtxt\u001b[0m\u001b[0;34m(\u001b[0m\u001b[0mfiledir\u001b[0m\u001b[0;34m,\u001b[0m\u001b[0mdelimiter\u001b[0m\u001b[0;34m=\u001b[0m\u001b[0;34m\"\\t\"\u001b[0m\u001b[0;34m)\u001b[0m\u001b[0;34m\u001b[0m\u001b[0m\n\u001b[0;32m----> 4\u001b[0;31m     \u001b[0mTotalDensity\u001b[0m \u001b[0;34m=\u001b[0m \u001b[0;34m[\u001b[0m\u001b[0mi\u001b[0m\u001b[0;34m[\u001b[0m\u001b[0;36m0\u001b[0m\u001b[0;34m]\u001b[0m \u001b[0;32mfor\u001b[0m \u001b[0mi\u001b[0m \u001b[0;32min\u001b[0m \u001b[0mmydata\u001b[0m\u001b[0;34m]\u001b[0m \u001b[0;31m#Total bacterial density\u001b[0m\u001b[0;34m\u001b[0m\u001b[0m\n\u001b[0m\u001b[1;32m      5\u001b[0m     \u001b[0mSuc\u001b[0m \u001b[0;34m=\u001b[0m \u001b[0;34m[\u001b[0m\u001b[0mi\u001b[0m\u001b[0;34m[\u001b[0m\u001b[0;36m1\u001b[0m\u001b[0;34m]\u001b[0m \u001b[0;32mfor\u001b[0m \u001b[0mi\u001b[0m \u001b[0;32min\u001b[0m \u001b[0mmydata\u001b[0m\u001b[0;34m]\u001b[0m \u001b[0;31m#Susceptible strain total density\u001b[0m\u001b[0;34m\u001b[0m\u001b[0m\n\u001b[1;32m      6\u001b[0m     \u001b[0mRes\u001b[0m \u001b[0;34m=\u001b[0m \u001b[0;34m[\u001b[0m\u001b[0mi\u001b[0m\u001b[0;34m[\u001b[0m\u001b[0;36m2\u001b[0m\u001b[0;34m]\u001b[0m \u001b[0;32mfor\u001b[0m \u001b[0mi\u001b[0m \u001b[0;32min\u001b[0m \u001b[0mmydata\u001b[0m\u001b[0;34m]\u001b[0m \u001b[0;31m#Resistant strain total density\u001b[0m\u001b[0;34m\u001b[0m\u001b[0m\n",
      "\u001b[0;32m<ipython-input-10-83cd05a813d0>\u001b[0m in \u001b[0;36m<listcomp>\u001b[0;34m(.0)\u001b[0m\n\u001b[1;32m      2\u001b[0m \u001b[0;34m\u001b[0m\u001b[0m\n\u001b[1;32m      3\u001b[0m     \u001b[0mmydata\u001b[0m \u001b[0;34m=\u001b[0m \u001b[0mnp\u001b[0m\u001b[0;34m.\u001b[0m\u001b[0mgenfromtxt\u001b[0m\u001b[0;34m(\u001b[0m\u001b[0mfiledir\u001b[0m\u001b[0;34m,\u001b[0m\u001b[0mdelimiter\u001b[0m\u001b[0;34m=\u001b[0m\u001b[0;34m\"\\t\"\u001b[0m\u001b[0;34m)\u001b[0m\u001b[0;34m\u001b[0m\u001b[0m\n\u001b[0;32m----> 4\u001b[0;31m     \u001b[0mTotalDensity\u001b[0m \u001b[0;34m=\u001b[0m \u001b[0;34m[\u001b[0m\u001b[0mi\u001b[0m\u001b[0;34m[\u001b[0m\u001b[0;36m0\u001b[0m\u001b[0;34m]\u001b[0m \u001b[0;32mfor\u001b[0m \u001b[0mi\u001b[0m \u001b[0;32min\u001b[0m \u001b[0mmydata\u001b[0m\u001b[0;34m]\u001b[0m \u001b[0;31m#Total bacterial density\u001b[0m\u001b[0;34m\u001b[0m\u001b[0m\n\u001b[0m\u001b[1;32m      5\u001b[0m     \u001b[0mSuc\u001b[0m \u001b[0;34m=\u001b[0m \u001b[0;34m[\u001b[0m\u001b[0mi\u001b[0m\u001b[0;34m[\u001b[0m\u001b[0;36m1\u001b[0m\u001b[0;34m]\u001b[0m \u001b[0;32mfor\u001b[0m \u001b[0mi\u001b[0m \u001b[0;32min\u001b[0m \u001b[0mmydata\u001b[0m\u001b[0;34m]\u001b[0m \u001b[0;31m#Susceptible strain total density\u001b[0m\u001b[0;34m\u001b[0m\u001b[0m\n\u001b[1;32m      6\u001b[0m     \u001b[0mRes\u001b[0m \u001b[0;34m=\u001b[0m \u001b[0;34m[\u001b[0m\u001b[0mi\u001b[0m\u001b[0;34m[\u001b[0m\u001b[0;36m2\u001b[0m\u001b[0;34m]\u001b[0m \u001b[0;32mfor\u001b[0m \u001b[0mi\u001b[0m \u001b[0;32min\u001b[0m \u001b[0mmydata\u001b[0m\u001b[0;34m]\u001b[0m \u001b[0;31m#Resistant strain total density\u001b[0m\u001b[0;34m\u001b[0m\u001b[0m\n",
      "\u001b[0;31mIndexError\u001b[0m: invalid index to scalar variable."
     ]
    }
   ],
   "source": [
    "sim_size=6\n",
    "df_vec = [load_data(\"DR_N_50_meanedg_\"+str(i)+\"_watts_out\") for i in range(sim_size)]"
   ]
  },
  {
   "cell_type": "markdown",
   "metadata": {},
   "source": [
    "We generate the function for plotting many comparisons"
   ]
  },
  {
   "cell_type": "code",
   "execution_count": null,
   "metadata": {
    "collapsed": true
   },
   "outputs": [],
   "source": [
    "def plot_Dose_on_col(column):\n",
    "    mean_matrix = [df_vec[i].groupby([column]).mean() for i in range(sim_size)]\n",
    "    stderr_matrix = [df_vec[i].groupby([column]).std() for i in range(sim_size)]\n",
    "    Ant_Con = range(mean_matrix[0])\n",
    "\n",
    "    for i in range(sim_size):\n",
    "        plt.plot(Ant_Con, mean_matrix)\n",
    "        plt.fill_between(range(len(mean_matrix)), mean_matrix[i]-stderr_matrix[i], mean_matrix[i]+stderr_matrix[i])\n",
    "        plt.legend([str(i*2) for i in range(1,sim_size+1)],loc='best',title=\"Mean Edges\")\n",
    "    \n",
    "    plt.show()"
   ]
  },
  {
   "cell_type": "code",
   "execution_count": null,
   "metadata": {
    "collapsed": true
   },
   "outputs": [],
   "source": [
    "def plot_Dose_on_col_tmp(column):\n",
    "    [plt.plot(range(len(df_vec[i][column])),df_vec[i][column]) for i in range(sim_size)]\n",
    "    plt.title(\"Dose effect on \"+column+\" when increasing Mean Edges\",y=1.08)\n",
    "    plt.legend([str(i*2) for i in range(1,sim_size+1)],loc='best',title=\"Mean Edges\")\n",
    "    \n",
    "    plt.savefig(\"Figures/Dose_incME_\"+column+\"CC\"+CC+\".png\")\n",
    "    plt.show()\n"
   ]
  },
  {
   "cell_type": "code",
   "execution_count": null,
   "metadata": {
    "collapsed": false
   },
   "outputs": [],
   "source": [
    "plot_Dose_on_col('TotDen')"
   ]
  },
  {
   "cell_type": "code",
   "execution_count": null,
   "metadata": {
    "collapsed": false
   },
   "outputs": [],
   "source": [
    "plot_Dose_on_col('Rel_Freq')"
   ]
  },
  {
   "cell_type": "code",
   "execution_count": null,
   "metadata": {
    "collapsed": false
   },
   "outputs": [],
   "source": [
    "plot_Dose_on_col('ResWin')"
   ]
  },
  {
   "cell_type": "markdown",
   "metadata": {},
   "source": [
    "## Analysis of Relative Frequency AND Density"
   ]
  },
  {
   "cell_type": "code",
   "execution_count": null,
   "metadata": {
    "collapsed": false
   },
   "outputs": [],
   "source": [
    "fontsize=15\n",
    "sim_size = 5\n",
    "f, ax_vec = plt.subplots(sim_size, sharex=True, sharey=False, figsize=(10,10))\n",
    "\n",
    "for i in range(sim_size):\n",
    "    ax = ax_vec[i]\n",
    "    ax.stackplot(range(len(df_vec[i]['Rel_Freq'])),df_vec[i].ResDen,df_vec[i].SucDen,colors=['red','blue'])\n",
    "    \n",
    "    \n",
    "    ax.annotate(r'$M=%d$' % ((i+1)*2), xy=(1.03,0.5), rotation=90,\n",
    "                        ha='center',va='center',xycoords='axes fraction', fontsize=fontsize)\n",
    "    if i==0:\n",
    "        ax.set_title('Dose-Response when increasing network connectivity',y=1.15,fontsize=fontsize)\n",
    "    else:\n",
    "        ax.yaxis.get_offset_text().set_visible(False)\n",
    "        if i==sim_size-1:\n",
    "            ax.legend(['Resistant','Susceptible'])\n",
    "    \n",
    "#plt.setp([a.get_xticklabels() for a in f.axes[:-1]], visible=False)\n",
    "f.subplots_adjust(wspace=0,hspace=0)\n",
    "plt.xlabel(\"Antibiotic Concentration\",fontsize=fontsize)\n",
    "f.text(0.05, 0.5, 'Bacterial Population Density', va='center', rotation='vertical',fontsize = fontsize)\n",
    "\n",
    "plt.savefig(\"Figures/DR_varME_2to8_CC+\"CC+\".png\")\n",
    "plt.show()"
   ]
  },
  {
   "cell_type": "code",
   "execution_count": null,
   "metadata": {
    "collapsed": false
   },
   "outputs": [],
   "source": [
    "fontsize=15\n",
    "sim_size = 5\n",
    "f, ax_vec = plt.subplots(sim_size, sharex=True, sharey=False, figsize=(10,10))\n",
    "\n",
    "for i in range(sim_size):\n",
    "    ax = ax_vec[i]\n",
    "    ax.stackplot(range(len(df_vec[i]['Rel_Freq'])),df_vec[i].ResWin,df_vec[i].SucWin,colors=['red','blue'])\n",
    "    \n",
    "    \n",
    "    ax.annotate(r'$M=%d$' % ((i+1)*2), xy=(1.03,0.5), rotation=90,\n",
    "                        ha='center',va='center',xycoords='axes fraction', fontsize=fontsize)\n",
    "    if i==0:\n",
    "        ax.set_title('Dose-Response when increasing network connectivity',y=1.15,fontsize=fontsize)\n",
    "    else:\n",
    "        ax.yaxis.get_offset_text().set_visible(False)\n",
    "        if i==sim_size-1:\n",
    "            ax.legend(['Resistant','Susceptible'])\n",
    "    \n",
    "#plt.setp([a.get_xticklabels() for a in f.axes[:-1]], visible=False)\n",
    "f.subplots_adjust(wspace=0,hspace=0)\n",
    "plt.xlabel(\"Antibiotic Concentration\",fontsize=fontsize)\n",
    "f.text(0.05, 0.5, 'Nodes Won', va='center', rotation='vertical',fontsize = fontsize)\n",
    "\n",
    "plt.savefig(\"Figures/DRWin_varME_2to8_CC0.2.png\")\n",
    "plt.show()"
   ]
  }
 ],
 "metadata": {
  "kernelspec": {
   "display_name": "Python 3",
   "language": "python",
   "name": "python3"
  },
  "language_info": {
   "codemirror_mode": {
    "name": "ipython",
    "version": 3
   },
   "file_extension": ".py",
   "mimetype": "text/x-python",
   "name": "python",
   "nbconvert_exporter": "python",
   "pygments_lexer": "ipython3",
   "version": "3.4.3"
  }
 },
 "nbformat": 4,
 "nbformat_minor": 1
}
