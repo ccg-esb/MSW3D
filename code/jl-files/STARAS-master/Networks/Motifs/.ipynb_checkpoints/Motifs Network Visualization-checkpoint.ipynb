{
 "cells": [
  {
   "cell_type": "code",
   "execution_count": 1,
   "metadata": {
    "collapsed": true
   },
   "outputs": [],
   "source": [
    "using LightGraphs\n",
    "using ODE"
   ]
  },
  {
   "cell_type": "code",
   "execution_count": 2,
   "metadata": {
    "collapsed": false
   },
   "outputs": [
    {
     "data": {
      "text/plain": [
       "Dict{String,Any} with 5 entries:\n",
       "  \"cycle\"    => LightGraphs.CycleGraph\n",
       "  \"roach\"    => LightGraphs.RoachGraph\n",
       "  \"star\"     => LightGraphs.StarGraph\n",
       "  \"complete\" => LightGraphs.CompleteGraph\n",
       "  \"wheel\"    => LightGraphs.WheelGraph"
      ]
     },
     "execution_count": 2,
     "metadata": {},
     "output_type": "execute_result"
    }
   ],
   "source": [
    "include(\"source/Model.jl\")\n",
    "include(\"source/Plotter.jl\")\n",
    "include(\"source/Functions.jl\")\n",
    "include(\"source/run_params.jl\")"
   ]
  },
  {
   "cell_type": "code",
   "execution_count": 3,
   "metadata": {
    "collapsed": false
   },
   "outputs": [
    {
     "data": {
      "text/plain": [
       "5-element Array{String,1}:\n",
       " \"complete\"\n",
       " \"star\"    \n",
       " \"cycle\"   \n",
       " \"roach\"   \n",
       " \"wheel\"   "
      ]
     },
     "execution_count": 3,
     "metadata": {},
     "output_type": "execute_result"
    }
   ],
   "source": [
    "motifs=[\"complete\",\"star\",\"cycle\",\"roach\",\"wheel\"]"
   ]
  },
  {
   "cell_type": "code",
   "execution_count": null,
   "metadata": {
    "collapsed": true
   },
   "outputs": [],
   "source": [
    "motifs_res = [sim_motif_network(3,motif) for motifin motifs]"
   ]
  }
 ],
 "metadata": {
  "kernelspec": {
   "display_name": "Julia 0.5.0",
   "language": "julia",
   "name": "julia-0.5"
  },
  "language_info": {
   "file_extension": ".jl",
   "mimetype": "application/julia",
   "name": "julia",
   "version": "0.5.0"
  }
 },
 "nbformat": 4,
 "nbformat_minor": 1
}
