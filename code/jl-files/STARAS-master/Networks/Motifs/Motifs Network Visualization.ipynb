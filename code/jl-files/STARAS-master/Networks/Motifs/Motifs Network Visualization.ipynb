{
 "cells": [
  {
   "cell_type": "code",
   "execution_count": 26,
   "metadata": {
    "collapsed": true
   },
   "outputs": [],
   "source": [
    "using LightGraphs\n",
    "using ODE\n",
    "using GraphPlot\n",
    "using Compose"
   ]
  },
  {
   "cell_type": "code",
   "execution_count": 11,
   "metadata": {
    "collapsed": false
   },
   "outputs": [
    {
     "name": "stderr",
     "output_type": "stream",
     "text": [
      "WARNING: Method definition (::Type{Main.bact})(Float64, Float64, Float64, Float64, Float64) in module Main at /home/rpm/BGS3/Networks/Motifs/source/Model.jl:5 overwritten at /home/rpm/BGS3/Networks/Motifs/source/Model.jl:5.\n",
      "WARNING: Method definition (::Type{Main.bact})(Any, Any, Any, Any, Any) in module Main at /home/rpm/BGS3/Networks/Motifs/source/Model.jl:5 overwritten at /home/rpm/BGS3/Networks/Motifs/source/Model.jl:5.\n",
      "WARNING: Method definition (::Type{Main.antb})(Float64) in module Main at /home/rpm/BGS3/Networks/Motifs/source/Model.jl:13 overwritten at /home/rpm/BGS3/Networks/Motifs/source/Model.jl:13.\n",
      "WARNING: Method definition (::Type{Main.antb})(Any) in module Main at /home/rpm/BGS3/Networks/Motifs/source/Model.jl:13 overwritten at /home/rpm/BGS3/Networks/Motifs/source/Model.jl:13.\n",
      "WARNING: Method definition (::Type{Main.node})(Int32, Array{Float64, N<:Any}, Float64, Float64) in module Main at /home/rpm/BGS3/Networks/Motifs/source/Model.jl:17 overwritten at /home/rpm/BGS3/Networks/Motifs/source/Model.jl:17.\n",
      "WARNING: Method definition (::Type{Main.node})(Any, Any, Any, Any) in module Main at /home/rpm/BGS3/Networks/Motifs/source/Model.jl:17 overwritten at /home/rpm/BGS3/Networks/Motifs/source/Model.jl:17.\n",
      "WARNING: Method definition u(Float64, Main.bact) in module Main at /home/rpm/BGS3/Networks/Motifs/source/Model.jl:27 overwritten at /home/rpm/BGS3/Networks/Motifs/source/Model.jl:27.\n",
      "WARNING: Method definition G(Function, Main.bact, Float64) in module Main at /home/rpm/BGS3/Networks/Motifs/source/Model.jl:31 overwritten at /home/rpm/BGS3/Networks/Motifs/source/Model.jl:31.\n",
      "WARNING: Method definition update(Any, Any) in module Main at /home/rpm/BGS3/Networks/Motifs/source/Model.jl:50 overwritten at /home/rpm/BGS3/Networks/Motifs/source/Model.jl:50.\n",
      "WARNING: Method definition plot_nwork(Any, Any) in module Main at /home/rpm/BGS3/Networks/Motifs/source/Plotter.jl:2 overwritten at /home/rpm/BGS3/Networks/Motifs/source/Plotter.jl:2.\n",
      "WARNING: Method definition get_data(Main.node) in module Main at /home/rpm/BGS3/Networks/Motifs/source/Functions.jl:4 overwritten at /home/rpm/BGS3/Networks/Motifs/source/Functions.jl:4.\n",
      "WARNING: Method definition declare_darray(Array{Main.node, 1}) in module Main at /home/rpm/BGS3/Networks/Motifs/source/Functions.jl:13 overwritten at /home/rpm/BGS3/Networks/Motifs/source/Functions.jl:13.\n",
      "WARNING: Method definition create_node(Any) in module Main at /home/rpm/BGS3/Networks/Motifs/source/Functions.jl:23 overwritten at /home/rpm/BGS3/Networks/Motifs/source/Functions.jl:23.\n",
      "WARNING: Method definition search_hub(Any) in module Main at /home/rpm/BGS3/Networks/Motifs/source/Functions.jl:28 overwritten at /home/rpm/BGS3/Networks/Motifs/source/Functions.jl:28.\n",
      "WARNING: Method definition iter(Any, Any) in module Main at /home/rpm/BGS3/Networks/Motifs/source/Functions.jl:46 overwritten at /home/rpm/BGS3/Networks/Motifs/source/Functions.jl:46.\n",
      "WARNING: Method definition quantify_wins(Any) in module Main at /home/rpm/BGS3/Networks/Motifs/source/Functions.jl:71 overwritten at /home/rpm/BGS3/Networks/Motifs/source/Functions.jl:71.\n",
      "WARNING: Method definition create_nw(String, Int64, Float64, Float64) in module Main at /home/rpm/BGS3/Networks/Motifs/source/Functions.jl:94 overwritten at /home/rpm/BGS3/Networks/Motifs/source/Functions.jl:94.\n",
      "WARNING: Method definition sim_network(Any, Any) in module Main at /home/rpm/BGS3/Networks/Motifs/source/Functions.jl:104 overwritten at /home/rpm/BGS3/Networks/Motifs/source/Functions.jl:104.\n",
      "WARNING: Method definition single_attack(LightGraphs.Graph, Array{Main.node, 1}, Array{Float64, 2}, Int64, Float64) in module Main at /home/rpm/BGS3/Networks/Motifs/source/Functions.jl:111 overwritten at /home/rpm/BGS3/Networks/Motifs/source/Functions.jl:111.\n",
      "WARNING: Method definition sim_attacks(String, Float64) in module Main at /home/rpm/BGS3/Networks/Motifs/source/Functions.jl:118 overwritten at /home/rpm/BGS3/Networks/Motifs/source/Functions.jl:118.\n",
      "WARNING: Method definition sim_motif_network(Int64, String) in module Main at /home/rpm/BGS3/Networks/Motifs/source/Functions.jl:125 overwritten at /home/rpm/BGS3/Networks/Motifs/source/Functions.jl:125.\n",
      "WARNING: redefining constant nets\n"
     ]
    },
    {
     "data": {
      "text/plain": [
       "Dict{String,Any} with 5 entries:\n",
       "  \"cycle\"    => LightGraphs.CycleGraph\n",
       "  \"roach\"    => LightGraphs.RoachGraph\n",
       "  \"star\"     => LightGraphs.StarGraph\n",
       "  \"complete\" => LightGraphs.CompleteGraph\n",
       "  \"wheel\"    => LightGraphs.WheelGraph"
      ]
     },
     "execution_count": 11,
     "metadata": {},
     "output_type": "execute_result"
    }
   ],
   "source": [
    "include(\"source/Model.jl\")\n",
    "include(\"source/Plotter.jl\")\n",
    "include(\"source/Functions.jl\")\n",
    "include(\"source/run_params.jl\")"
   ]
  },
  {
   "cell_type": "code",
   "execution_count": 12,
   "metadata": {
    "collapsed": false
   },
   "outputs": [
    {
     "data": {
      "text/plain": [
       "5-element Array{String,1}:\n",
       " \"complete\"\n",
       " \"star\"    \n",
       " \"cycle\"   \n",
       " \"roach\"   \n",
       " \"wheel\"   "
      ]
     },
     "execution_count": 12,
     "metadata": {},
     "output_type": "execute_result"
    }
   ],
   "source": [
    "motifs=[\"complete\",\"star\",\"cycle\",\"roach\",\"wheel\"]"
   ]
  },
  {
   "cell_type": "code",
   "execution_count": 13,
   "metadata": {
    "collapsed": false
   },
   "outputs": [],
   "source": [
    "#sim_motif_network(1,\"star\")"
   ]
  },
  {
   "cell_type": "code",
   "execution_count": 29,
   "metadata": {
    "collapsed": false
   },
   "outputs": [],
   "source": [
    "for motif in motifs\n",
    "    nwork = nets[motif](node_num)\n",
    "    draw(PNG(\"Motif_Figs/\"*motif*\".png\", 16cm, 16cm), gplot(nwork))\n",
    "end"
   ]
  }
 ],
 "metadata": {
  "kernelspec": {
   "display_name": "Julia 0.5.0",
   "language": "julia",
   "name": "julia-0.5"
  },
  "language_info": {
   "file_extension": ".jl",
   "mimetype": "application/julia",
   "name": "julia",
   "version": "0.5.0"
  }
 },
 "nbformat": 4,
 "nbformat_minor": 1
}
