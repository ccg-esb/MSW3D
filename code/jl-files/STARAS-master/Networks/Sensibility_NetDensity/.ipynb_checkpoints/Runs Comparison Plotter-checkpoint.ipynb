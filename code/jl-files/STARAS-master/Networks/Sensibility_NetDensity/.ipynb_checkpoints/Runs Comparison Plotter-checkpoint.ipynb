{
 "cells": [
  {
   "cell_type": "code",
   "execution_count": null,
   "metadata": {
    "collapsed": true
   },
   "outputs": [],
   "source": [
    "import numpy as np\n",
    "import matplotlib.pyplot as plt\n",
    "import pandas as pd\n",
    "import os\n",
    "import scipy as sp\n",
    "import scipy.stats\n",
    "\n",
    "\n",
    "if not os.path.exists(\"Main_Figures\"):\n",
    "    os.makedirs(\"Main_Figures\")"
   ]
  },
  {
   "cell_type": "code",
   "execution_count": null,
   "metadata": {
    "collapsed": true
   },
   "outputs": [],
   "source": [
    "def mean_confidence_interval(data, confidence=0.95):\n",
    "    a = 1.0*np.array(data)\n",
    "    n = len(a)\n",
    "    m, se = np.mean(a), scipy.stats.sem(a)\n",
    "    h = se * sp.stats.t._ppf((1+confidence)/2., n-1)\n",
    "    return [m, m-h, m+h]"
   ]
  },
  {
   "cell_type": "code",
   "execution_count": null,
   "metadata": {
    "collapsed": false
   },
   "outputs": [],
   "source": [
    "NamesDict = {'TotDen':'Average Bacterial Density','SucDen': 'Susceptible Bacteria Density',\n",
    "             'ResDen': 'Resistant Bacteria Density','Rel_Freq': 'Resistant Relative Frequency',\n",
    "       'Suc_D_Score': 'Susceptible D-Score', 'Res_D_Score':'Resistant D-Score', 'R_S_winratio':'Ratio of winners R/S',\n",
    "       'NetDen':'Network Density','ClustC':'Global Clustering Coefficient','CloCentr':'Closeness Centrality',\n",
    "        'ant_deg':'Connectivity of Antibiotic Source',\n",
    "       'BetCentr':'Betweenness Centrality'}\n",
    "\n",
    "def data_to_df(data):\n",
    "    df = pd.DataFrame({'TotDen':np.divide([i[0] for i in data],50),'SucDen':np.divide([i[1] for i in data],50),'ResDen':np.divide([i[2] for i in data],50),\n",
    "     'Rel_Freq':[i[2]/(i[1]+i[2]) for i in data], 'Suc_D_Score':np.divide([i[3] for i in data],50), 'Res_D_Score':np.divide([i[4] for i in data],50), \n",
    "     'R_S_winratio':[i[4]/(i[3]+i[4]) for i in data], 'NetDen':[i[6] for i in data],'ClustC':[i[7] for i in data],\n",
    "     'CloCentr':[i[8] for i in data],'AntDeg':[i[9] for i in data], 'BetCentr':[i[10] for i in data]})\n",
    "   \n",
    "    return df"
   ]
  },
  {
   "cell_type": "code",
   "execution_count": null,
   "metadata": {
    "collapsed": true
   },
   "outputs": [],
   "source": [
    "ntype=\"watts\" #watts or erdos\n",
    "runs = [\"runs/20171127_155235_Sim_Watts_Density/out_\"+ntype, \"runs/20171127_173120_Sim_Watts_Density/out_\"+ntype,\n",
    "       \"runs/20171127_182322_Sim_Watts_Density/out_\"+ntype,\"runs/20171127_182957_Sim_Watts_Density/out_\"+ntype]"
   ]
  },
  {
   "cell_type": "code",
   "execution_count": null,
   "metadata": {
    "collapsed": false
   },
   "outputs": [],
   "source": [
    "data = [data_to_df(np.genfromtxt(run,delimiter=\"\\t\")) for run in runs]"
   ]
  },
  {
   "cell_type": "code",
   "execution_count": null,
   "metadata": {
    "collapsed": true
   },
   "outputs": [],
   "source": [
    " def obtain_line_intervals2plot(data,col1,col2,confidence=0.95):\n",
    "    x_values = [datapoint[0] for datapoint in data.groupby([col1],as_index=False)]\n",
    "    mean_ConfInt = [mean_confidence_interval(datapoint[1][col2]) for datapoint in data.groupby([col1],as_index=False)]\n",
    "    return x_values,mean_ConfInt"
   ]
  },
  {
   "cell_type": "code",
   "execution_count": null,
   "metadata": {
    "collapsed": false
   },
   "outputs": [],
   "source": [
    "def plot_datasets(data_array,col1,cols2):\n",
    "    fontsize=15\n",
    "    f, ax_vec = plt.subplots(len(cols2), sharex=True, sharey=False, figsize=(12,10))\n",
    "    \n",
    "    for i in range(len(cols2)):\n",
    "        ax = ax_vec[i]\n",
    "        for dset in data_array:\n",
    "            x_vals,mci = obtain_line_intervals2plot(dset,col1,cols2[i])\n",
    "            mean_vals = [point[0] for point in mci]\n",
    "            #lower_ConfInt = [point[1] for point in mci]\n",
    "            #upper_ConfInt = [point[2] for point in mci]\n",
    "\n",
    "            ax.plot(x_vals,mean_vals)\n",
    "            #ax.fill_between(x_vals,lower_ConfInt,upper_ConfInt,alpha=0.5)\n",
    "        if i==len(cols2)-1:\n",
    "            ax.set_xlabel(NamesDict[col1])\n",
    "            ax.legend([20,40,60,80],title=\"Antibiotic Concentration\")\n",
    "\n",
    "        ax.set_ylabel(NamesDict[cols2[i]])\n",
    "\n",
    "        if i==0:\n",
    "            ax.set_title(NamesDict[col1]+\" effect on Resistance Selection under different antibiotic pressures\",y=1.07)\n",
    "\n",
    "        if cols2[i]== 'TotDen':\n",
    "            ax.set_ylim(0,np.max([dset['TotDen'] for dset in data_array]),50)\n",
    "       \n",
    "        #ax.set_xlim(0,0.4)\n",
    "    \n",
    "    f.subplots_adjust(wspace=0.0,hspace=0.05)\n",
    "         \n",
    "        \n",
    "    plt.savefig(\"Main_Figures/ND_and_Ant_Eff_on_ResSel_\"+ntype+\".png\",dpi=200)\n",
    "    plt.show()"
   ]
  },
  {
   "cell_type": "code",
   "execution_count": null,
   "metadata": {
    "collapsed": false
   },
   "outputs": [],
   "source": [
    "plot_datasets(data,'NetDen',['TotDen','Rel_Freq'])"
   ]
  },
  {
   "cell_type": "code",
   "execution_count": null,
   "metadata": {
    "collapsed": false
   },
   "outputs": [],
   "source": [
    "plot_datasets(data,'NetDen',['TotDen','Res_D_Score'])"
   ]
  },
  {
   "cell_type": "code",
   "execution_count": null,
   "metadata": {
    "collapsed": false
   },
   "outputs": [],
   "source": [
    "def plot_datasets_together(data_array,cols_to_x,cols_to_y):\n",
    "    fontsize=12\n",
    "    f, ax_vec = plt.subplots(nrows=len(cols_to_x),ncols=len(cols_to_y), sharex='col', sharey='row', figsize=(10,10))\n",
    "\n",
    "    for i in range(2): \n",
    "        for j in range(2):\n",
    "        \n",
    "            ax = ax_vec[i][j]\n",
    "            \n",
    "            for dset in data_array:\n",
    "                x_vals,mci = obtain_line_intervals2plot(dset,cols_to_x[j],cols_to_y[i])\n",
    "                mean_vals = [point[0] for point in mci]\n",
    "                lower_ConfInt = [point[1] for point in mci]\n",
    "                upper_ConfInt = [point[2] for point in mci]\n",
    "\n",
    "                ax.plot(x_vals,mean_vals)\n",
    "                ax.fill_between(x_vals,lower_ConfInt,upper_ConfInt,alpha=0.5)\n",
    "            \n",
    "            if i==1 and j==0:\n",
    "                ax_vec[i][j].legend([20,40,60,80],title=\"Antibiotic Dose\")\n",
    "            \n",
    "            if i==1:\n",
    "                ax.set_xlabel(NamesDict[cols_to_x[j]],fontsize=fontsize)\n",
    "                \n",
    "\n",
    "            if j==0:\n",
    "                ax_vec[i][0].set_ylabel(NamesDict[cols_to_y[i]],fontsize=fontsize)\n",
    "\n",
    "            if cols_to_y[i] == 'Rel_Freq':\n",
    "                ax.hlines(y=0.5,xmin=np.min([dset[cols_to_x[j]] for dset in data_array]),xmax=np.max([dset[cols_to_x[j]] for dset in data_array]),colors='r',linestyles='dashed')\n",
    "    \n",
    "            elif cols_to_y[i]== 'TotDen':\n",
    "                    ax.set_ylim(0,np.max([dset['TotDen'] for dset in data_array]))\n",
    "            \n",
    "        #ax_vec[index][0].set_title(\"Network Density and Antibiotic effect on Resistance Selection\",y=1.08,fontsize=fontsize)\n",
    "\n",
    "            \n",
    "\n",
    "\n",
    "        \n",
    "    f.subplots_adjust(wspace=0,hspace=0.05)\n",
    "    \n",
    "    plt.savefig(\"Main_Figures/Cen_ND_Ant_Eff_on_ResSel_\"+ntype+\".png\")\n",
    "    plt.show()"
   ]
  },
  {
   "cell_type": "code",
   "execution_count": null,
   "metadata": {
    "collapsed": false
   },
   "outputs": [],
   "source": [
    "plot_datasets_together(data,['NetDen','CloCentr'],['TotDen','Rel_Freq'])"
   ]
  }
 ],
 "metadata": {
  "kernelspec": {
   "display_name": "Python 3",
   "language": "python",
   "name": "python3"
  },
  "language_info": {
   "codemirror_mode": {
    "name": "ipython",
    "version": 3
   },
   "file_extension": ".py",
   "mimetype": "text/x-python",
   "name": "python",
   "nbconvert_exporter": "python",
   "pygments_lexer": "ipython3",
   "version": "3.4.3"
  }
 },
 "nbformat": 4,
 "nbformat_minor": 1
}
